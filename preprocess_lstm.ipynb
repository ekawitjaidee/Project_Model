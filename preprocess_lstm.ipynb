{
 "metadata": {
  "orig_nbformat": 2,
  "kernelspec": {
   "name": "python3",
   "display_name": "Python 3",
   "language": "python"
  }
 },
 "nbformat": 4,
 "nbformat_minor": 2,
 "cells": [
  {
   "cell_type": "code",
   "execution_count": 26,
   "metadata": {},
   "outputs": [],
   "source": [
    "from keras.models import load_model,Sequential\n",
    "from keras.layers import Input, Dense, LSTM\n",
    "from keras.utils import to_categorical\n",
    "from keras.callbacks import Callback, ModelCheckpoint\n",
    "\n",
    "import numpy as np\n",
    "import pandas as pd\n",
    "import glob\n",
    "\n",
    "from sklearn.preprocessing import MinMaxScaler\n",
    "\n",
    "from Indicator import Indicator\n",
    "\n",
    "def fillindicator(df):\n",
    "    indicator = Indicator()\n",
    "    train_set = indicator.MACD(df)\n",
    "    train_set = indicator.DMI(df)\n",
    "    # train_set = indicator.STOCHRSI(df)\n",
    "    train_set = indicator.AROON(df)\n",
    "    train_set = indicator.ATR(df)\n",
    "    train_set = indicator.CCI(df)\n",
    "    train_set = indicator.OBV(df)\n",
    "    # train_set = indicator.AO(df)\n",
    "    return train_set\n",
    "\n",
    "def signal_to_catagorical(data):\n",
    "  data.loc[data['Signal'] == 'wait ot hold', 'Signal'] = 'wait or hold'\n",
    "  data.loc[data['Signal'] == 'buy', 'Signal'] = 0\n",
    "  data.loc[data['Signal'] == 'sell', 'Signal'] = 1 \n",
    "  data.loc[data['Signal'] == 'wait or hold', 'Signal'] = 2 \n",
    "  return data\n",
    "\n",
    "def add_shift_day(data,day):\n",
    "    r_list = []\n",
    "    rx = np.array([])\n",
    "    for i in range(day,len(data)):#Number mean day to shift\n",
    "        r_list.append(data[i-day : i])\n",
    "    rx = np.array(r_list)\n",
    "    return rx"
   ]
  },
  {
   "cell_type": "code",
   "execution_count": 27,
   "metadata": {},
   "outputs": [
    {
     "output_type": "stream",
     "name": "stdout",
     "text": [
      "have stock =  60\n"
     ]
    }
   ],
   "source": [
    "#Preprocess\n",
    "#read name all stock with glob\n",
    "datalist = [f for f in glob.glob(\"Dataset/*.csv\")]\n",
    "print('have stock = ',len(datalist))"
   ]
  },
  {
   "cell_type": "code",
   "execution_count": 28,
   "metadata": {},
   "outputs": [],
   "source": [
    "#number of data each set\n",
    "tn, vl, ts = 50, 5, 5"
   ]
  },
  {
   "cell_type": "code",
   "execution_count": 29,
   "metadata": {},
   "outputs": [
    {
     "output_type": "stream",
     "name": "stdout",
     "text": [
      "5\n"
     ]
    },
    {
     "output_type": "error",
     "ename": "ValueError",
     "evalue": "cannot copy sequence with size 30 to array axis with dimension 5",
     "traceback": [
      "\u001b[1;31m---------------------------------------------------------------------------\u001b[0m",
      "\u001b[1;31mValueError\u001b[0m                                Traceback (most recent call last)",
      "\u001b[1;32m<ipython-input-29-8ed120a4c2eb>\u001b[0m in \u001b[0;36m<module>\u001b[1;34m\u001b[0m\n\u001b[0;32m      6\u001b[0m \u001b[0mval\u001b[0m \u001b[1;33m=\u001b[0m \u001b[0mpd\u001b[0m\u001b[1;33m.\u001b[0m\u001b[0mread_csv\u001b[0m\u001b[1;33m(\u001b[0m\u001b[0mdatalist\u001b[0m\u001b[1;33m[\u001b[0m\u001b[0mtn\u001b[0m\u001b[1;33m+\u001b[0m\u001b[0mvl\u001b[0m\u001b[1;33m]\u001b[0m\u001b[1;33m)\u001b[0m\u001b[1;33m\u001b[0m\u001b[1;33m\u001b[0m\u001b[0m\n\u001b[0;32m      7\u001b[0m \u001b[0mvalidation\u001b[0m \u001b[1;33m=\u001b[0m \u001b[0mval\u001b[0m\u001b[1;33m[\u001b[0m\u001b[1;33m[\u001b[0m\u001b[1;34m'MACD_n'\u001b[0m\u001b[1;33m,\u001b[0m\u001b[1;34m'SIGNAL LINE_n'\u001b[0m\u001b[1;33m,\u001b[0m\u001b[1;34m'plusDI_n'\u001b[0m\u001b[1;33m,\u001b[0m\u001b[1;34m'minusDI_n'\u001b[0m\u001b[1;33m,\u001b[0m\u001b[1;34m'Close_n'\u001b[0m\u001b[1;33m]\u001b[0m\u001b[1;33m]\u001b[0m\u001b[1;33m\u001b[0m\u001b[1;33m\u001b[0m\u001b[0m\n\u001b[1;32m----> 8\u001b[1;33m \u001b[0mval_x\u001b[0m \u001b[1;33m=\u001b[0m \u001b[0madd_shift_day\u001b[0m\u001b[1;33m(\u001b[0m\u001b[0mvalidation\u001b[0m\u001b[1;33m,\u001b[0m\u001b[1;36m30\u001b[0m\u001b[1;33m)\u001b[0m\u001b[1;33m\u001b[0m\u001b[1;33m\u001b[0m\u001b[0m\n\u001b[0m\u001b[0;32m      9\u001b[0m \u001b[0mval\u001b[0m \u001b[1;33m=\u001b[0m \u001b[0msignal_to_catagorical\u001b[0m\u001b[1;33m(\u001b[0m\u001b[0mval\u001b[0m\u001b[1;33m)\u001b[0m\u001b[1;33m\u001b[0m\u001b[1;33m\u001b[0m\u001b[0m\n\u001b[0;32m     10\u001b[0m \u001b[0mval_y\u001b[0m \u001b[1;33m=\u001b[0m \u001b[0mval\u001b[0m\u001b[1;33m[\u001b[0m\u001b[1;33m[\u001b[0m\u001b[1;34m'Signal'\u001b[0m\u001b[1;33m]\u001b[0m\u001b[1;33m]\u001b[0m\u001b[1;33m.\u001b[0m\u001b[0mto_numpy\u001b[0m\u001b[1;33m(\u001b[0m\u001b[1;33m)\u001b[0m\u001b[1;33m\u001b[0m\u001b[1;33m\u001b[0m\u001b[0m\n",
      "\u001b[1;32m<ipython-input-26-e012e9f7400f>\u001b[0m in \u001b[0;36madd_shift_day\u001b[1;34m(data, day)\u001b[0m\n\u001b[0;32m     36\u001b[0m     \u001b[1;32mfor\u001b[0m \u001b[0mi\u001b[0m \u001b[1;32min\u001b[0m \u001b[0mrange\u001b[0m\u001b[1;33m(\u001b[0m\u001b[0mday\u001b[0m\u001b[1;33m,\u001b[0m\u001b[0mlen\u001b[0m\u001b[1;33m(\u001b[0m\u001b[0mdata\u001b[0m\u001b[1;33m)\u001b[0m\u001b[1;33m)\u001b[0m\u001b[1;33m:\u001b[0m\u001b[1;31m#Number mean day to shift\u001b[0m\u001b[1;33m\u001b[0m\u001b[1;33m\u001b[0m\u001b[0m\n\u001b[0;32m     37\u001b[0m         \u001b[0mr_list\u001b[0m\u001b[1;33m.\u001b[0m\u001b[0mappend\u001b[0m\u001b[1;33m(\u001b[0m\u001b[0mdata\u001b[0m\u001b[1;33m[\u001b[0m\u001b[0mi\u001b[0m\u001b[1;33m-\u001b[0m\u001b[0mday\u001b[0m \u001b[1;33m:\u001b[0m \u001b[0mi\u001b[0m\u001b[1;33m]\u001b[0m\u001b[1;33m)\u001b[0m\u001b[1;33m\u001b[0m\u001b[1;33m\u001b[0m\u001b[0m\n\u001b[1;32m---> 38\u001b[1;33m     \u001b[0mrx\u001b[0m \u001b[1;33m=\u001b[0m \u001b[0mnp\u001b[0m\u001b[1;33m.\u001b[0m\u001b[0marray\u001b[0m\u001b[1;33m(\u001b[0m\u001b[0mr_list\u001b[0m\u001b[1;33m)\u001b[0m\u001b[1;33m\u001b[0m\u001b[1;33m\u001b[0m\u001b[0m\n\u001b[0m\u001b[0;32m     39\u001b[0m     \u001b[1;32mreturn\u001b[0m \u001b[0mrx\u001b[0m\u001b[1;33m\u001b[0m\u001b[1;33m\u001b[0m\u001b[0m\n",
      "\u001b[1;31mValueError\u001b[0m: cannot copy sequence with size 30 to array axis with dimension 5"
     ]
    }
   ],
   "source": [
    "val_x_list=[]\n",
    "val_xs = np.array([])\n",
    "print(len(datalist[tn:tn+vl]))\n",
    "# for name in datalist[tn:tn+vl]:  \n",
    "val_x_list=[]\n",
    "val = pd.read_csv(datalist[tn+vl])\n",
    "validation = val[['MACD_n','SIGNAL LINE_n','plusDI_n','minusDI_n','Close_n']]\n",
    "val_x = add_shift_day(validation,30)\n",
    "val = signal_to_catagorical(val)\n",
    "val_y = val[['Signal']].to_numpy()\n",
    "val_y = to_categorical(val_y)\n",
    "val_y = val_y.tolist()\n",
    "del val_y[0:30]\n",
    "val_y = np.array(val_y)\n",
    "# val_xs = np.concatenate((val_xs,val_x))\n",
    "print(val_x.shape)"
   ]
  },
  {
   "cell_type": "code",
   "execution_count": 6,
   "metadata": {},
   "outputs": [
    {
     "output_type": "stream",
     "name": "stdout",
     "text": [
      "             Date       High        Low       Open      Close    Volume  \\\n0        1/7/2004  19.398148  18.960438  19.364479  19.063553  31203000   \n1        2/7/2004  19.225590  18.819445  18.996212  19.206650  25156100   \n2        6/7/2004  19.185606  18.773148  19.168772  18.905724  27390000   \n3        7/7/2004  18.594276  18.150253  18.455387  18.280724  49151300   \n4        8/7/2004  17.874578  17.279041  17.462122  17.603115  72285500   \n...           ...        ...        ...        ...        ...       ...   \n26970  12/24/2014  54.599998  54.150002  54.549999  54.160000    694300   \n26971  12/26/2014  54.419998  53.950001  54.419998  54.279999   1196300   \n26972  12/29/2014  54.520000  53.939999  54.110001  54.310001   1391000   \n26973  12/30/2014  54.660000  54.080002  54.290001  54.220001   1525800   \n26974  12/31/2014  54.549999  53.549999  54.490002  53.580002   1483600   \n\n       Adj Close        Signal      MACD  SIGNAL LINE     plusDI    minusDI  \\\n0      18.513731  wait or hold  0.396500     0.356468  29.501440  17.599831   \n1      18.652702  wait or hold  0.393388     0.363852  27.453570  18.787894   \n2      18.360451  wait or hold  0.362596     0.363601  25.424892  18.188746   \n3      17.753477  wait or hold  0.284746     0.347830  22.328321  26.015455   \n4      17.095415  wait or hold  0.166723     0.311608  19.020505  35.046253   \n...          ...           ...       ...          ...        ...        ...   \n26970  42.260971  wait or hold  0.342320     0.437223  20.387166  20.376883   \n26971  42.354599  wait or hold  0.340778     0.417934  19.624020  21.207017   \n26972  42.378010  wait or hold  0.338080     0.401963  19.511124  20.202021   \n26973  42.307781  wait or hold  0.324934     0.386557  19.735785  19.221077   \n26974  41.808388  wait or hold  0.259877     0.361221  18.103590  22.014694   \n\n             adx  aroon_up  aroon_down       ATR         CCI        OBV  \\\n0      23.756576      88.0        48.0  0.437710  103.774497  686471100   \n1      23.398253      84.0        44.0  0.406145   81.219746  711627200   \n2      22.912055      80.0        40.0  0.412458   51.957987  684237200   \n3      21.820258      76.0        36.0  0.444023  -51.990715  635085900   \n4      22.378859      72.0       100.0  0.595537 -155.304565  562800400   \n...          ...       ...         ...       ...         ...        ...   \n26970  17.527799      56.0        76.0  0.449997   30.167877  510903900   \n26971  16.552738      52.0        72.0  0.469997   16.809641  512100200   \n26972  15.494666      48.0        68.0  0.580002   19.267844  513491200   \n26973  14.482277      44.0        64.0  0.579998   21.991811  511965400   \n26974  14.144181      40.0        60.0  1.000000  -37.228178  510481800   \n\n        Close_n  \n0      0.583402  \n1      0.589065  \n2      0.577155  \n3      0.552420  \n4      0.525603  \n...         ...  \n26970  0.978718  \n26971  0.981061  \n26972  0.981647  \n26973  0.979889  \n26974  0.967393  \n\n[26975 rows x 19 columns]\n"
     ]
    }
   ],
   "source": [
    "print(val_data)"
   ]
  },
  {
   "cell_type": "code",
   "execution_count": 16,
   "metadata": {},
   "outputs": [],
   "source": [
    "#show model\n",
    "# train_data[['MACD','SIGNAL LINE']].plot(figsize =(16,8))\n",
    "# train_data.head(40)"
   ]
  },
  {
   "cell_type": "code",
   "execution_count": 7,
   "metadata": {},
   "outputs": [],
   "source": [
    "train_data.to_csv('train2.csv',index = False)\n",
    "val_data.to_csv('val2.csv',index = False)\n",
    "test_data.to_csv('test2.csv',index = False)"
   ]
  },
  {
   "cell_type": "code",
   "execution_count": null,
   "metadata": {},
   "outputs": [],
   "source": []
  }
 ]
}
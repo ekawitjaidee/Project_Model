{
 "cells": [
  {
   "cell_type": "code",
   "execution_count": 1,
   "metadata": {},
   "outputs": [],
   "source": [
    "from keras.models import Sequential\n",
    "from keras.layers import Dense\n",
    "import numpy as np\n",
    "import pandas as pd\n",
    "import glob\n",
    "\n",
    "from sklearn.preprocessing import MinMaxScaler\n",
    "\n",
    "from Indicator import Indicator\n",
    "\n",
    "def fillindicator(df):\n",
    "    indicator = Indicator()\n",
    "    train_set = indicator.MACD(df)\n",
    "    train_set = indicator.DMI(df)\n",
    "    # train_set = indicator.STOCHRSI(df)\n",
    "    # train_set = indicator.AROON(df)\n",
    "    # train_set = indicator.ATR(df)\n",
    "    # train_set = indicator.CCI(df)\n",
    "    # train_set = indicator.OBV(df)\n",
    "    # train_set = indicator.AO(df)\n",
    "    return train_set\n",
    "\n",
    "def shiftdata(df,col_name,sft):\n",
    "    for i in range(sft):\n",
    "        i+=1\n",
    "        shiftname = col_name+'-'+str(i)\n",
    "        df[shiftname] = df[col_name].shift(i)\n",
    "\n",
    "    return df\n",
    "\n",
    "def norm(df,col_name):# this will get columnname + _n\n",
    "    #Normalize data each colunm in to range -1 to 1\n",
    "    df[col_name+'_n'] = 2*(df[col_name]-df[col_name].min())/(df[col_name].max()-df[col_name].min())-1    \n",
    "    return df\n",
    "\n"
   ]
  },
  {
   "cell_type": "code",
   "execution_count": 2,
   "metadata": {},
   "outputs": [
    {
     "name": "stdout",
     "output_type": "stream",
     "text": [
      "have stock =  77\n"
     ]
    }
   ],
   "source": [
    "#Preprocess\n",
    "#read name all stock with glob\n",
    "datalist = [f for f in glob.glob(\"GT/*.csv\")]\n",
    "print('have stock = ',len(datalist))"
   ]
  },
  {
   "cell_type": "code",
   "execution_count": 3,
   "metadata": {},
   "outputs": [
    {
     "name": "stdout",
     "output_type": "stream",
     "text": [
      "ABC(2003,2015)\n"
     ]
    }
   ],
   "source": [
    "print(datalist[4][3:-4])"
   ]
  },
  {
   "cell_type": "code",
   "execution_count": 4,
   "metadata": {},
   "outputs": [
    {
     "name": "stdout",
     "output_type": "stream",
     "text": [
      "0 GT\\A(2003,2015).csv "
     ]
    },
    {
     "name": "stderr",
     "output_type": "stream",
     "text": [
      "C:\\Users\\jame_\\anaconda3\\lib\\site-packages\\ta\\trend.py:768: RuntimeWarning: invalid value encountered in double_scalars\n",
      "  dip[i] = 100 * (self._dip[i] / self._trs[i])\n",
      "C:\\Users\\jame_\\anaconda3\\lib\\site-packages\\ta\\trend.py:772: RuntimeWarning: invalid value encountered in double_scalars\n",
      "  din[i] = 100 * (self._din[i] / self._trs[i])\n"
     ]
    },
    {
     "name": "stdout",
     "output_type": "stream",
     "text": [
      "1 GT\\AAL(2006,2015).csv 2 GT\\AAP(2005,2015).csv 3 GT\\AAPL(2005,2015).csv 4 GT\\ABC(2003,2015).csv 5 GT\\ABMD(2005,2015).csv 6 GT\\ABT(2005,2015).csv 7 GT\\ACN(2005,2015).csv 8 GT\\ADBE(2005,2015).csv 9 GT\\ADI(2005,2015).csv 10 GT\\ADVANC.bk(2005,2015).csv 11 GT\\AEE(2005,2015).csv 12 GT\\AES(2005,2015).csv 13 GT\\AFL(2004,2015).csv 14 GT\\AKAM(2005,2015).csv 15 GT\\ALB(2003,2015).csv 16 GT\\ALK(2005,2015).csv 17 GT\\ALL(2005,2015).csv 18 GT\\ALXN(2005,2015).csv 19 GT\\AMAT(2005,2015).csv 20 GT\\AMD(2005,2015).csv 21 GT\\AMGN(2005,2015).csv 22 GT\\AMZN(2004,2015).csv 23 GT\\AON(2005,2015).csv 24 GT\\AOS(2002,2015).csv 25 GT\\AOT.bk(2005,2015).csv 26 GT\\APD(2005,2015).csv 27 GT\\ARE(2005,2015).csv 28 GT\\ATO(2005,2015).csv 29 GT\\ATVI(2005,2015).csv 30 GT\\AVB(2003,2015).csv 31 GT\\AZO(2005,2016).csv 32 GT\\BBL.bk(2003,2016).csv 33 GT\\BDMS.bk(2005,2015).csv 34 GT\\BH.bk(2005,2015).csv 35 GT\\BJC.bk(2005,2015).csv "
     ]
    },
    {
     "name": "stderr",
     "output_type": "stream",
     "text": [
      "C:\\Users\\jame_\\anaconda3\\lib\\site-packages\\ta\\trend.py:798: RuntimeWarning: invalid value encountered in double_scalars\n",
      "  dip[i + self._window] = 100 * (self._dip[i] / self._trs[i])\n",
      "C:\\Users\\jame_\\anaconda3\\lib\\site-packages\\ta\\trend.py:813: RuntimeWarning: invalid value encountered in double_scalars\n",
      "  din[i + self._window] = 100 * (self._din[i] / self._trs[i])\n"
     ]
    },
    {
     "name": "stdout",
     "output_type": "stream",
     "text": [
      "36 GT\\BKR(2004,2015).csv 37 GT\\BLL(2004,2015).csv 38 GT\\CPALL.bk(2005,2015).csv 39 GT\\CPF.bk(2005,2015).csv 40 GT\\CPN.bk(2005,2015).csv 41 GT\\EA(2005,2015).csv 42 GT\\EBAY(2005,2016).csv 43 GT\\EGCO.bk(2008,2015).csv 44 GT\\EMR(2003,2015).csv 45 GT\\EOG(2005,2015).csv 46 GT\\ETR(2005,2015).csv 47 GT\\GOOGL(2005,2015).csv 48 GT\\HD(2003,2015).csv 49 GT\\HMPRO.bk(2005,2015).csv 50 GT\\HON(2004,2015).csv 51 GT\\HRL(2005,2015).csv 52 GT\\IBM(2005,2015).csv 53 GT\\IP(2005,2015).csv 54 GT\\IPG(2005,2015).csv 55 GT\\IRPC.bk(2008,2015).csv 56 GT\\KBANK.bk(2005,2015).csv 57 GT\\KTB.bk(2005,2015).csv 58 GT\\KTC.bk(2005,2015).csv 59 GT\\LH(2003,2015).csv 60 GT\\LH.bk(2005,2015).csv 61 GT\\LNT(2006,2015).csv 62 GT\\LRCX(2005,2015).csv 63 GT\\LUV(2004,2016).csv 64 GT\\MINT.bk(2006,2015).csv 65 GT\\MMM(2005,2015).csv 66 GT\\MO(2005,2015).csv 67 GT\\NFLX(2003,2015).csv 68 GT\\POOL(2005,2016).csv 69 GT\\RATCH.bk(2005,2015).csv 70 GT\\SCB.bk(2005,2015).csv 71 GT\\SCC.bk(2004,2015).csv 72 GT\\TISCO.bk(2005,2015).csv 73 GT\\TMB.bk(2005,2015).csv 74 GT\\TOP.bk(2006,2015).csv 75 GT\\TRUE.bk(2005,2015).csv 76 GT\\TU.bk(2005,2015).csv "
     ]
    }
   ],
   "source": [
    "dataset = pd.DataFrame()\n",
    "\n",
    "for i,stockname in enumerate(datalist):\n",
    "    print(i,stockname,end=\" \")\n",
    "    df = pd.read_csv(stockname)\n",
    "    df = fillindicator(df)\n",
    "    df['MACD-SL'] = df['MACD'] - df['SIGNAL LINE']\n",
    "    df['DMI'] = df['plusDI'] - df['minusDI']\n",
    "    df = norm(df,'MACD-SL')\n",
    "    df = norm(df,'DMI')\n",
    "    df = norm(df,'Close')\n",
    "#     df = shiftdata(df,'MACD-SL_n',7) #param 1.pd.dataframe 2.colunmsname 3shift.Number name to \n",
    "#     df = shiftdata(df,'DMI_n',7) \n",
    "#     df = shiftdata(df,'Close_n',7) \n",
    "    dataset = df[63:]\n",
    "    dataset.to_csv('Dataset/'+str(stockname[3:-4])+'.csv',index = False)"
   ]
  },
  {
   "cell_type": "code",
   "execution_count": null,
   "metadata": {},
   "outputs": [],
   "source": []
  }
 ],
 "metadata": {
  "kernelspec": {
   "display_name": "Python 3",
   "language": "python",
   "name": "python3"
  },
  "language_info": {
   "codemirror_mode": {
    "name": "ipython",
    "version": 3
   },
   "file_extension": ".py",
   "mimetype": "text/x-python",
   "name": "python",
   "nbconvert_exporter": "python",
   "pygments_lexer": "ipython3",
   "version": "3.7.6"
  }
 },
 "nbformat": 4,
 "nbformat_minor": 2
}

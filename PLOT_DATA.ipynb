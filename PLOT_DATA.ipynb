{
 "cells": [
  {
   "cell_type": "code",
   "execution_count": 6,
   "metadata": {},
   "outputs": [],
   "source": [
    "import glob\n",
    "import pandas as pd\n",
    "import numpy as np\n",
    "import matplotlib.pyplot as plt\n",
    "import datetime\n",
    "import finplot as fplt"
   ]
  },
  {
   "cell_type": "code",
   "execution_count": 2,
   "metadata": {},
   "outputs": [
    {
     "name": "stdout",
     "output_type": "stream",
     "text": [
      "have stock =  77\n"
     ]
    }
   ],
   "source": [
    "datalist = [f for f in glob.glob(\"Dataset2/*.csv\")]\n",
    "print('have stock = ',len(datalist))"
   ]
  },
  {
   "cell_type": "code",
   "execution_count": 12,
   "metadata": {},
   "outputs": [],
   "source": [
    "name = datalist[0]\n",
    "df = pd.read_csv(name)\n",
    "df['Date'] = pd.to_datetime(df['Date'])\n",
    "df= df.set_index('Date')\n"
   ]
  },
  {
   "cell_type": "code",
   "execution_count": 25,
   "metadata": {},
   "outputs": [],
   "source": [
    "df['buy'] = np.where(df['Signal']=='buy',df['Close'],None)\n",
    "df['sell'] = np.where(df['Signal']=='sell',df['Close'],None)"
   ]
  },
  {
   "cell_type": "code",
   "execution_count": 27,
   "metadata": {},
   "outputs": [],
   "source": [
    "# ax = fplt.create_plot(name, rows=1)\n",
    "ax,ax2,ax3,ax4 = fplt.create_plot(name, rows=4)\n",
    "#plot1 main\n",
    "fplt.candlestick_ochl(df[['Open','Close','High','Low']],ax=ax)\n",
    "\n",
    "\n",
    "#MACD\n",
    "fplt.plot(df['MACD'],ax=ax2,legend='MACD')\n",
    "fplt.plot(df['SIGNAL LINE'],ax=ax2,legend='SIGNAL LINE')\n",
    "\n",
    "fplt.plot(df['Close'],ax=ax3)\n",
    "\n",
    "#DMI\n",
    "fplt.plot(df['plusDI'],ax=ax4,legend='+DI')\n",
    "fplt.plot(df['minusDI'],ax=ax4,legend='-DI')\n",
    "\n",
    "\n",
    "fplt.show()"
   ]
  },
  {
   "cell_type": "code",
   "execution_count": 19,
   "metadata": {},
   "outputs": [
    {
     "data": {
      "text/plain": [
       "Date\n",
       "2003-03-13    9.32046\n",
       "2003-03-14       None\n",
       "2003-03-17       None\n",
       "2003-03-18       None\n",
       "2003-03-19       None\n",
       "               ...   \n",
       "2003-10-08       None\n",
       "2003-10-09       None\n",
       "2003-10-10       None\n",
       "2003-10-13       None\n",
       "2003-10-14       None\n",
       "Name: buy, Length: 150, dtype: object"
      ]
     },
     "execution_count": 19,
     "metadata": {},
     "output_type": "execute_result"
    }
   ],
   "source": []
  },
  {
   "cell_type": "code",
   "execution_count": null,
   "metadata": {},
   "outputs": [],
   "source": []
  }
 ],
 "metadata": {
  "kernelspec": {
   "display_name": "Python 3",
   "language": "python",
   "name": "python3"
  },
  "language_info": {
   "codemirror_mode": {
    "name": "ipython",
    "version": 3
   },
   "file_extension": ".py",
   "mimetype": "text/x-python",
   "name": "python",
   "nbconvert_exporter": "python",
   "pygments_lexer": "ipython3",
   "version": "3.7.6"
  }
 },
 "nbformat": 4,
 "nbformat_minor": 4
}

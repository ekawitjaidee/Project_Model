{
 "metadata": {
  "orig_nbformat": 2,
  "kernelspec": {
   "name": "python3",
   "display_name": "Python 3",
   "language": "python"
  }
 },
 "nbformat": 4,
 "nbformat_minor": 2,
 "cells": [
  {
   "cell_type": "code",
   "execution_count": 28,
   "metadata": {},
   "outputs": [],
   "source": [
    "from keras.models import Sequential\n",
    "from keras.layers import Dense\n",
    "import numpy as np\n",
    "import pandas as pd\n",
    "import glob\n",
    "\n",
    "from sklearn.preprocessing import MinMaxScaler\n",
    "\n",
    "from Indicator import Indicator\n",
    "\n",
    "def fillindicator(df):\n",
    "    indicator = Indicator()\n",
    "    train_set = indicator.MACD(df)\n",
    "    train_set = indicator.DMI(df)\n",
    "    # train_set = indicator.STOCHRSI(df)\n",
    "    # train_set = indicator.AROON(df)\n",
    "    # train_set = indicator.ATR(df)\n",
    "    # train_set = indicator.CCI(df)\n",
    "    # train_set = indicator.OBV(df)\n",
    "    # train_set = indicator.AO(df)\n",
    "    return train_set\n",
    "\n",
    "def shiftdata(df,col_name,sft):\n",
    "    for i in range(sft):\n",
    "        i+=1\n",
    "        shiftname = col_name+'-'+str(i)\n",
    "        df[shiftname] = df[col_name].shift(i)\n",
    "\n",
    "    return df\n",
    "\n",
    "def norm(df,col_name):\n",
    "    #Normalize data each colunm in to range -1 to 1\n",
    "    df[col_name+'_n'] = 2*(df[col_name]-df[col_name].min())/(df[col_name].max()-df[col_name].min())-1    \n",
    "    return df\n",
    "\n"
   ]
  },
  {
   "cell_type": "code",
   "execution_count": 24,
   "metadata": {},
   "outputs": [
    {
     "output_type": "stream",
     "name": "stdout",
     "text": [
      "have stock =  60\n"
     ]
    }
   ],
   "source": [
    "#Preprocess\n",
    "#read name all stock with glob\n",
    "datalist = [f for f in glob.glob(\"GT/*.csv\")]\n",
    "print('have stock = ',len(datalist))"
   ]
  },
  {
   "cell_type": "code",
   "execution_count": 25,
   "metadata": {},
   "outputs": [
    {
     "output_type": "stream",
     "name": "stdout",
     "text": [
      "ABC(2003,2015)\n"
     ]
    }
   ],
   "source": [
    "print(datalist[4][3:-4])"
   ]
  },
  {
   "cell_type": "code",
   "execution_count": 34,
   "metadata": {},
   "outputs": [
    {
     "output_type": "stream",
     "name": "stdout",
     "text": [
      "0 GT\\A(2003,2015).csv 1 GT\\AAL(2006,2015).csv 2 GT\\AAP(2005,2015).csv 3 GT\\AAPL(2005,2015).csv 4 GT\\ABC(2003,2015).csv 5 GT\\ABMD(2005,2015).csv 6 GT\\ABT(2005,2015).csv 7 GT\\ACN(2005,2015).csv 8 GT\\ADBE(2005,2015).csv 9 GT\\ADI(2005,2015).csv 10 GT\\ADVANC.bk(2005,2015).csv 11 GT\\AEE(2005,2015).csv 12 GT\\AES(2005,2015).csv 13 GT\\AFL(2004,2015).csv 14 GT\\AKAM(2005,2015).csv 15 GT\\ALB(2003,2015).csv 16 GT\\ALK(2005,2015).csv 17 GT\\ALL(2005,2015).csv 18 GT\\ALXN(2005,2015).csv 19 GT\\AMAT(2005,2015).csv 20 GT\\AMD(2005,2015).csv 21 GT\\AMGN(2005,2015).csv 22 GT\\AMZN(2004,2015).csv 23 GT\\AON(2005,2015).csv 24 GT\\AOS(2002,2015).csv 25 GT\\AOT.bk(2005,2015).csv 26 GT\\APD(2005,2015).csv 27 GT\\ARE(2005,2015).csv 28 GT\\ATO(2005,2015).csv 29 GT\\ATVI(2005,2015).csv 30 GT\\AVB(2003,2015).csv 31 GT\\AZO(2005,2016).csv 32 GT\\BBL.bk(2003,2016).csv 33 GT\\BDMS.bk(2005,2015).csv 34 GT\\BH.bk(2005,2015).csv 35 GT\\BKR(2004,2015).csv 36 GT\\BLL(2004,2015).csv 37 GT\\CPALL.bk(2005,2015).csv 38 GT\\CPN.bk(2005,2015).csv 39 GT\\EA(2005,2015).csv 40 GT\\EBAY(2005,2016).csv 41 GT\\EMR(2003,2015).csv 42 GT\\EOG(2005,2015).csv 43 GT\\ETR(2005,2015).csv 44 GT\\GOOGL(2005,2015).csv 45 GT\\HD(2003,2015).csv 46 GT\\HON(2004,2015).csv 47 GT\\HRL(2005,2015).csv 48 GT\\IBM(2005,2015).csv 49 GT\\IP(2005,2015).csv 50 GT\\IPG(2005,2015).csv 51 GT\\KBANK.bk(2005,2015).csv 52 GT\\LH(2003,2015).csv 53 GT\\LNT(2006,2015).csv 54 GT\\LRCX(2005,2015).csv 55 GT\\LUV(2004,2016).csv 56 GT\\MMM(2005,2015).csv 57 GT\\MO(2005,2015).csv 58 GT\\NFLX(2003,2015).csv 59 GT\\POOL(2005,2016).csv "
     ]
    }
   ],
   "source": [
    "dataset = pd.DataFrame()\n",
    "\n",
    "for i,stockname in enumerate(datalist):\n",
    "    print(i,stockname,end=\" \")\n",
    "    df = pd.read_csv(stockname)\n",
    "    df = fillindicator(df)\n",
    "    df = norm(df,'MACD') # this will get columnname + _n\n",
    "    df = norm(df,'SIGNAL LINE')\n",
    "    df = norm(df,'plusDI')\n",
    "    df = norm(df,'minusDI')\n",
    "    df = norm(df,'Close')\n",
    "    # df = shiftdata(df,'MACD_n',7) #param 1.pd.dataframe 2.colunmsname 3shift.Number name to \n",
    "    # df = shiftdata(df,'SIGNAL LINE_n',7) \n",
    "    # df = shiftdata(df,'plusDI_n',7)\n",
    "    # df = shiftdata(df,'minusDI_n',7) \n",
    "    dataset = df[63:]\n",
    "    dataset.to_csv('Dataset/'+str(stockname[3:-4])+'.csv',index = False)"
   ]
  },
  {
   "cell_type": "code",
   "execution_count": null,
   "metadata": {},
   "outputs": [],
   "source": []
  }
 ]
}
{
 "metadata": {
  "orig_nbformat": 2,
  "kernelspec": {
   "name": "python3",
   "display_name": "Python 3",
   "language": "python"
  }
 },
 "nbformat": 4,
 "nbformat_minor": 2,
 "cells": [
  {
   "cell_type": "code",
   "execution_count": 1,
   "metadata": {},
   "outputs": [],
   "source": [
    "from keras.models import Sequential\n",
    "from keras.layers import Dense\n",
    "import numpy as np\n",
    "import pandas as pd\n",
    "import glob\n",
    "\n",
    "from Indicator import Indicator\n",
    "\n",
    "def fillindicator(df):\n",
    "    indicator = Indicator()\n",
    "    train_set = indicator.MACD(df)\n",
    "    train_set = indicator.DMI(df)\n",
    "    # train_set = indicator.STOCHRSI(df)\n",
    "    train_set = indicator.AROON(df)\n",
    "    train_set = indicator.ATR(df)\n",
    "    train_set = indicator.CCI(df)\n",
    "    train_set = indicator.OBV(df)\n",
    "    # train_set = indicator.AO(df)\n",
    "    return train_set"
   ]
  },
  {
   "cell_type": "code",
   "execution_count": 2,
   "metadata": {},
   "outputs": [
    {
     "output_type": "stream",
     "name": "stdout",
     "text": [
      "have stock =  60\n"
     ]
    }
   ],
   "source": [
    "#Preprocess\n",
    "#read name all stock with glob\n",
    "datalist = [f for f in glob.glob(\"GT/*.csv\")]\n",
    "print('have stock = ',len(datalist))"
   ]
  },
  {
   "cell_type": "code",
   "execution_count": 3,
   "metadata": {},
   "outputs": [],
   "source": [
    "#number of data each set\n",
    "train, val , test = 40,10,10"
   ]
  },
  {
   "cell_type": "code",
   "execution_count": 4,
   "metadata": {},
   "outputs": [
    {
     "output_type": "stream",
     "name": "stdout",
     "text": [
      "0 GT\\A(2003,2015).csv train\n",
      "1 GT\\AAL(2006,2015).csv train\n",
      "2 GT\\AAP(2005,2015).csv train\n",
      "3 GT\\AAPL(2005,2015).csv train\n",
      "4 GT\\ABC(2003,2015).csv train\n",
      "5 GT\\ABMD(2005,2015).csv train\n",
      "6 GT\\ABT(2005,2015).csv train\n",
      "7 GT\\ACN(2005,2015).csv train\n",
      "8 GT\\ADBE(2005,2015).csv train\n",
      "9 GT\\ADI(2005,2015).csv train\n",
      "10 GT\\ADVANC.bk(2005,2015).csv train\n",
      "11 GT\\AEE(2005,2015).csv train\n",
      "12 GT\\AES(2005,2015).csv train\n",
      "13 GT\\AFL(2004,2015).csv train\n",
      "14 GT\\AKAM(2005,2015).csv train\n",
      "15 GT\\ALB(2003,2015).csv train\n",
      "16 GT\\ALK(2005,2015).csv train\n",
      "17 GT\\ALL(2005,2015).csv train\n",
      "18 GT\\ALXN(2005,2015).csv train\n",
      "19 GT\\AMAT(2005,2015).csv train\n",
      "20 GT\\AMD(2005,2015).csv train\n",
      "21 GT\\AMGN(2005,2015).csv train\n",
      "22 GT\\AMZN(2004,2015).csv train\n",
      "23 GT\\AON(2005,2015).csv train\n",
      "24 GT\\AOS(2002,2015).csv train\n",
      "25 GT\\AOT.bk(2005,2015).csv train\n",
      "26 GT\\APD(2005,2015).csv train\n",
      "27 GT\\ARE(2005,2015).csv train\n",
      "28 GT\\ATO(2005,2015).csv train\n",
      "29 GT\\ATVI(2005,2015).csv train\n",
      "30 GT\\AVB(2003,2015).csv train\n",
      "31 GT\\AZO(2005,2016).csv train\n",
      "32 GT\\BBL.bk(2003,2016).csv train\n",
      "33 GT\\BDMS.bk(2005,2015).csv train\n",
      "34 GT\\BH.bk(2005,2015).csv train\n",
      "35 GT\\BKR(2004,2015).csv train\n",
      "36 GT\\BLL(2004,2015).csv train\n",
      "37 GT\\CPALL.bk(2005,2015).csv train\n",
      "38 GT\\CPN.bk(2005,2015).csv train\n",
      "39 GT\\EA(2005,2015).csv train\n",
      "40 GT\\EBAY(2005,2016).csv val\n",
      "41 GT\\EMR(2003,2015).csv val\n",
      "42 GT\\EOG(2005,2015).csv val\n",
      "43 GT\\ETR(2005,2015).csv val\n",
      "44 GT\\GOOGL(2005,2015).csv val\n",
      "45 GT\\HD(2003,2015).csv val\n",
      "46 GT\\HON(2004,2015).csv val\n",
      "47 GT\\HRL(2005,2015).csv val\n",
      "48 GT\\IBM(2005,2015).csv val\n",
      "49 GT\\IP(2005,2015).csv val\n",
      "50 GT\\IPG(2005,2015).csv test\n",
      "51 GT\\KBANK.bk(2005,2015).csv test\n",
      "52 GT\\LH(2003,2015).csv test\n",
      "53 GT\\LNT(2006,2015).csv test\n",
      "54 GT\\LRCX(2005,2015).csv test\n",
      "55 GT\\LUV(2004,2016).csv test\n",
      "56 GT\\MMM(2005,2015).csv test\n",
      "57 GT\\MO(2005,2015).csv test\n",
      "58 GT\\NFLX(2003,2015).csv test\n",
      "59 GT\\POOL(2005,2016).csv test\n"
     ]
    }
   ],
   "source": [
    "#Concatenate a train data\n",
    "train_data = pd.DataFrame()\n",
    "val_data = pd.DataFrame()\n",
    "test_data = pd.DataFrame()\n",
    "\n",
    "for i,stockname in enumerate(datalist):\n",
    "    print(i,stockname,end=\" \")\n",
    "    df = pd.read_csv(stockname)\n",
    "    df = fillindicator(df)\n",
    "    if i<train:\n",
    "        print('train')\n",
    "        train_data = pd.concat([train_data,df[63:]],ignore_index = True)\n",
    "    elif i>=train and i<(train+val):\n",
    "        print('val')\n",
    "        val_data = pd.concat([val_data,df[63:]],ignore_index = True)\n",
    "    elif i>=(train+val):\n",
    "        print('test')\n",
    "        test_data = pd.concat([test_data,df[63:]],ignore_index = True)"
   ]
  },
  {
   "cell_type": "code",
   "execution_count": 5,
   "metadata": {},
   "outputs": [
    {
     "output_type": "stream",
     "name": "stdout",
     "text": [
      "             Date       High        Low       Open      Close    Volume  \\\n0        1/7/2004  19.398148  18.960438  19.364479  19.063553  31203000   \n1        2/7/2004  19.225590  18.819445  18.996212  19.206650  25156100   \n2        6/7/2004  19.185606  18.773148  19.168772  18.905724  27390000   \n3        7/7/2004  18.594276  18.150253  18.455387  18.280724  49151300   \n4        8/7/2004  17.874578  17.279041  17.462122  17.603115  72285500   \n...           ...        ...        ...        ...        ...       ...   \n26970  12/24/2014  54.599998  54.150002  54.549999  54.160000    694300   \n26971  12/26/2014  54.419998  53.950001  54.419998  54.279999   1196300   \n26972  12/29/2014  54.520000  53.939999  54.110001  54.310001   1391000   \n26973  12/30/2014  54.660000  54.080002  54.290001  54.220001   1525800   \n26974  12/31/2014  54.549999  53.549999  54.490002  53.580002   1483600   \n\n       Adj Close        Signal      MACD  SIGNAL LINE     plusDI    minusDI  \\\n0      18.513731  wait or hold  0.396500     0.356468  29.501440  17.599831   \n1      18.652702  wait or hold  0.393388     0.363852  27.453570  18.787894   \n2      18.360451  wait or hold  0.362596     0.363601  25.424892  18.188746   \n3      17.753477  wait or hold  0.284746     0.347830  22.328321  26.015455   \n4      17.095415  wait or hold  0.166723     0.311608  19.020505  35.046253   \n...          ...           ...       ...          ...        ...        ...   \n26970  42.260971  wait or hold  0.342320     0.437223  20.387166  20.376883   \n26971  42.354599  wait or hold  0.340778     0.417934  19.624020  21.207017   \n26972  42.378010  wait or hold  0.338080     0.401963  19.511124  20.202021   \n26973  42.307781  wait or hold  0.324934     0.386557  19.735785  19.221077   \n26974  41.808388  wait or hold  0.259877     0.361221  18.103590  22.014694   \n\n             adx  aroon_up  aroon_down       ATR         CCI        OBV  \n0      23.756576      88.0        48.0  0.437710  103.774497  686471100  \n1      23.398253      84.0        44.0  0.406145   81.219746  711627200  \n2      22.912055      80.0        40.0  0.412458   51.957987  684237200  \n3      21.820258      76.0        36.0  0.444023  -51.990715  635085900  \n4      22.378859      72.0       100.0  0.595537 -155.304565  562800400  \n...          ...       ...         ...       ...         ...        ...  \n26970  17.527799      56.0        76.0  0.449997   30.167877  510903900  \n26971  16.552738      52.0        72.0  0.469997   16.809641  512100200  \n26972  15.494666      48.0        68.0  0.580002   19.267844  513491200  \n26973  14.482277      44.0        64.0  0.579998   21.991811  511965400  \n26974  14.144181      40.0        60.0  1.000000  -37.228178  510481800  \n\n[26975 rows x 18 columns]\n"
     ]
    }
   ],
   "source": [
    "print(val_data)"
   ]
  },
  {
   "cell_type": "code",
   "execution_count": 16,
   "metadata": {},
   "outputs": [],
   "source": [
    "#show model\n",
    "# train_data[['MACD','SIGNAL LINE']].plot(figsize =(16,8))\n",
    "# train_data.head(40)"
   ]
  },
  {
   "cell_type": "code",
   "execution_count": 9,
   "metadata": {},
   "outputs": [],
   "source": [
    "train_data.to_csv('train1.csv',index = False)\n",
    "val_data.to_csv('val1.csv',index = False)\n",
    "test_data.to_csv('test1.csv',index = False)"
   ]
  },
  {
   "cell_type": "code",
   "execution_count": null,
   "metadata": {},
   "outputs": [],
   "source": []
  }
 ]
}
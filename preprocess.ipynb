{
 "metadata": {
  "language_info": {
   "codemirror_mode": {
    "name": "ipython",
    "version": 3
   },
   "file_extension": ".py",
   "mimetype": "text/x-python",
   "name": "python",
   "nbconvert_exporter": "python",
   "pygments_lexer": "ipython3",
   "version": "3.7.7-final"
  },
  "orig_nbformat": 2,
  "kernelspec": {
   "name": "python37432bit83f766a27a154a7e8782be9929b8540d",
   "display_name": "Python 3.7.4 32-bit"
  }
 },
 "nbformat": 4,
 "nbformat_minor": 2,
 "cells": [
  {
   "cell_type": "code",
   "execution_count": 1,
   "metadata": {},
   "outputs": [],
   "source": [
    "from keras.models import Sequential\n",
    "from keras.layers import Dense\n",
    "import numpy as np\n",
    "import pandas as pd\n",
    "import glob\n",
    "\n",
    "from Indicator import Indicator\n"
   ]
  },
  {
   "cell_type": "code",
   "execution_count": 2,
   "metadata": {},
   "outputs": [
    {
     "output_type": "stream",
     "name": "stdout",
     "text": [
      "60\n"
     ]
    }
   ],
   "source": [
    "#Preprocess\n",
    "#read name all stock with glob\n",
    "datalist = [f for f in glob.glob(\"GT/*.csv\")]\n",
    "print(len(datalist))"
   ]
  },
  {
   "cell_type": "code",
   "execution_count": 9,
   "metadata": {},
   "outputs": [],
   "source": [
    "# df =pd.read_csv(str(datalist[2]))\n",
    "# df=df.set_index('Date')\n",
    "# train_set = pd.DataFrame(index=df.index)\n",
    "# indicator_signal= pd.DataFrame(index=df.index)\n",
    "# df[60:]"
   ]
  },
  {
   "cell_type": "code",
   "execution_count": 3,
   "metadata": {},
   "outputs": [],
   "source": [
    "def fillindicator(df):\n",
    "    indicator = Indicator()\n",
    "    train_set = indicator.MACD(df)\n",
    "    train_set = indicator.DMI(df)\n",
    "    train_set = indicator.STOCHRSI(df)\n",
    "    train_set = indicator.AROON(df)\n",
    "    train_set = indicator.ATR(df)\n",
    "    train_set = indicator.CCI(df)\n",
    "    train_set = indicator.OBV(df)\n",
    "    train_set = indicator.AO(df)\n",
    "    return train_set"
   ]
  },
  {
   "cell_type": "code",
   "execution_count": 4,
   "metadata": {},
   "outputs": [
    {
     "output_type": "stream",
     "name": "stdout",
     "text": [
      "GT\\A(2003,2015).csv GT\\AAL(2006,2015).csv GT\\AAP(2005,2015).csv GT\\AAPL(2005,2015).csv GT\\ABC(2003,2015).csv GT\\ABMD(2005,2015).csv GT\\ABT(2005,2015).csv GT\\ACN(2005,2015).csv GT\\ADBE(2005,2015).csv GT\\ADI(2005,2015).csv GT\\ADVANC.bk(2005,2015).csv GT\\AEE(2005,2015).csv GT\\AES(2005,2015).csv GT\\AFL(2004,2015).csv GT\\AKAM(2005,2015).csv GT\\ALB(2003,2015).csv GT\\ALK(2005,2015).csv GT\\ALL(2005,2015).csv GT\\ALXN(2005,2015).csv GT\\AMAT(2005,2015).csv GT\\AMD(2005,2015).csv GT\\AMGN(2005,2015).csv GT\\AMZN(2004,2015).csv GT\\AON(2005,2015).csv GT\\AOS(2002,2015).csv GT\\AOT.bk(2005,2015).csv GT\\APD(2005,2015).csv GT\\ARE(2005,2015).csv GT\\ATO(2005,2015).csv GT\\ATVI(2005,2015).csv GT\\AVB(2003,2015).csv GT\\AZO(2005,2016).csv GT\\BBL.bk(2003,2016).csv GT\\BDMS.bk(2005,2015).csv GT\\BH.bk(2005,2015).csv GT\\BKR(2004,2015).csv GT\\BLL(2004,2015).csv GT\\CPALL.bk(2005,2015).csv GT\\CPN.bk(2005,2015).csv GT\\EA(2005,2015).csv GT\\EBAY(2005,2016).csv GT\\EMR(2003,2015).csv GT\\EOG(2005,2015).csv GT\\ETR(2005,2015).csv GT\\GOOGL(2005,2015).csv GT\\HD(2003,2015).csv GT\\HON(2004,2015).csv GT\\HRL(2005,2015).csv GT\\IBM(2005,2015).csv GT\\IP(2005,2015).csv GT\\IPG(2005,2015).csv GT\\KBANK.bk(2005,2015).csv GT\\LH(2003,2015).csv GT\\LNT(2006,2015).csv GT\\LRCX(2005,2015).csv GT\\LUV(2004,2016).csv GT\\MMM(2005,2015).csv GT\\MO(2005,2015).csv GT\\NFLX(2003,2015).csv GT\\POOL(2005,2016).csv "
     ]
    }
   ],
   "source": [
    "#Concatenate a train data\n",
    "train_data = pd.DataFrame()\n",
    "\n",
    "for stockname in datalist:\n",
    "    print(stockname,end=\" \")\n",
    "    df = pd.read_csv(stockname)\n",
    "    df = fillindicator(df)\n",
    "    train_data = pd.concat([train_data,df[63:]],ignore_index = True)\n"
   ]
  },
  {
   "cell_type": "code",
   "execution_count": 16,
   "metadata": {},
   "outputs": [],
   "source": [
    "#show model\n",
    "# train_data[['MACD','SIGNAL LINE']].plot(figsize =(16,8))\n",
    "# train_data.head(40)"
   ]
  },
  {
   "cell_type": "code",
   "execution_count": 5,
   "metadata": {},
   "outputs": [],
   "source": [
    "train_data.to_csv('train.csv')"
   ]
  },
  {
   "cell_type": "code",
   "execution_count": 6,
   "metadata": {},
   "outputs": [],
   "source": [
    "test = pd.read_csv('KO(2010,2011).csv')\n",
    "test = fillindicator(test)\n",
    "test.to_csv('test.csv')"
   ]
  },
  {
   "cell_type": "code",
   "execution_count": null,
   "metadata": {},
   "outputs": [],
   "source": []
  }
 ]
}
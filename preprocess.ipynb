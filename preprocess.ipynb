{
 "metadata": {
  "language_info": {
   "codemirror_mode": {
    "name": "ipython",
    "version": 3
   },
   "file_extension": ".py",
   "mimetype": "text/x-python",
   "name": "python",
   "nbconvert_exporter": "python",
   "pygments_lexer": "ipython3",
   "version": "3.7.7-final"
  },
  "orig_nbformat": 2,
  "kernelspec": {
   "name": "python37432bit83f766a27a154a7e8782be9929b8540d",
   "display_name": "Python 3.7.4 32-bit"
  }
 },
 "nbformat": 4,
 "nbformat_minor": 2,
 "cells": [
  {
   "cell_type": "code",
   "execution_count": 7,
   "metadata": {},
   "outputs": [],
   "source": [
    "from keras.models import Sequential\n",
    "from keras.layers import Dense\n",
    "import numpy as np\n",
    "import pandas as pd\n",
    "import glob\n",
    "\n",
    "from Indicator import Indicator\n"
   ]
  },
  {
   "cell_type": "code",
   "execution_count": 8,
   "metadata": {},
   "outputs": [
    {
     "output_type": "stream",
     "name": "stdout",
     "text": [
      "40\n"
     ]
    }
   ],
   "source": [
    "#Preprocess\n",
    "#read name all stock with glob\n",
    "datalist = [f for f in glob.glob(\"GT/*.csv\")]\n",
    "print(len(datalist))"
   ]
  },
  {
   "cell_type": "code",
   "execution_count": 9,
   "metadata": {},
   "outputs": [],
   "source": [
    "# df =pd.read_csv(str(datalist[2]))\n",
    "# df=df.set_index('Date')\n",
    "# train_set = pd.DataFrame(index=df.index)\n",
    "# indicator_signal= pd.DataFrame(index=df.index)\n",
    "# df[60:]"
   ]
  },
  {
   "cell_type": "code",
   "execution_count": 10,
   "metadata": {},
   "outputs": [],
   "source": [
    "def fillindicator(df):\n",
    "    indicator = Indicator()\n",
    "    train_set = indicator.MACD(df)\n",
    "    train_set = indicator.DMI(df)\n",
    "    train_set = indicator.STOCHRSI(df)\n",
    "    train_set = indicator.AROON(df)\n",
    "    train_set = indicator.ATR(df)\n",
    "    train_set = indicator.CCI(df)\n",
    "    train_set = indicator.OBV(df)\n",
    "    train_set = indicator.AO(df)\n",
    "    return train_set"
   ]
  },
  {
   "cell_type": "code",
   "execution_count": 15,
   "metadata": {},
   "outputs": [
    {
     "output_type": "stream",
     "name": "stdout",
     "text": [
      "GT\\AAP(2010,2011).csv GT\\AAP(2011,2012).csv GT\\AAP(2012,2013).csv GT\\AAP(2013,2014).csv GT\\AAP(2014,2015).csv GT\\ABMD(2010,2011).csv GT\\ABMD(2011,2012).csv GT\\ABMD(2012,2013).csv GT\\ABMD(2013,2014).csv GT\\ABMD(2014,2015).csv GT\\ABT(2010,2011).csv GT\\ABT(2011,2012).csv GT\\ABT(2012,2013).csv GT\\ABT(2013,2014).csv GT\\ABT(2014,2015).csv GT\\ACN(2010,2011).csv GT\\ACN(2011,2012).csv GT\\ACN(2012,2013).csv GT\\ACN(2013,2014).csv GT\\ACN(2014,2015).csv GT\\ADBE(2010,2011).csv GT\\ADBE(2011,2012).csv GT\\ADBE(2012,2013).csv GT\\ADBE(2013,2014).csv GT\\ADBE(2014,2015).csv GT\\AMD(2010,2011).csv GT\\AMD(2011,2012).csv GT\\AMD(2012,2013).csv GT\\AMD(2013,2014).csv GT\\AMD(2014,2015).csv GT\\ATVI(2010,2011).csv GT\\ATVI(2011,2012).csv GT\\ATVI(2012,2013).csv GT\\ATVI(2013,2014).csv GT\\ATVI(2014,2015).csv GT\\MMM(2010,2011).csv GT\\MMM(2011,2012).csv GT\\MMM(2012,2013).csv GT\\MMM(2013,2014).csv GT\\MMM(2014,2015).csv "
     ]
    }
   ],
   "source": [
    "train_data = pd.DataFrame()\n",
    "for stockname in datalist:\n",
    "    print(stockname,end=\" \")\n",
    "    df = pd.read_csv(stockname)\n",
    "    df = fillindicator(df)\n",
    "    train_data = pd.concat([train_data,df[63:]],ignore_index = True)\n"
   ]
  },
  {
   "cell_type": "code",
   "execution_count": 16,
   "metadata": {},
   "outputs": [],
   "source": [
    "#show model\n",
    "# train_data[['MACD','SIGNAL LINE']].plot(figsize =(16,8))\n",
    "# train_data.head(40)"
   ]
  },
  {
   "cell_type": "code",
   "execution_count": 13,
   "metadata": {},
   "outputs": [],
   "source": [
    "train_data.to_csv('train.csv')"
   ]
  },
  {
   "cell_type": "code",
   "execution_count": 14,
   "metadata": {},
   "outputs": [],
   "source": [
    "test = pd.read_csv('KO(2010,2011).csv')\n",
    "test = fillindicator(test)\n",
    "test.to_csv('test.csv')"
   ]
  },
  {
   "cell_type": "code",
   "execution_count": null,
   "metadata": {},
   "outputs": [],
   "source": []
  }
 ]
}
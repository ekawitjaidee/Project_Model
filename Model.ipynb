{
 "metadata": {
  "language_info": {
   "codemirror_mode": {
    "name": "ipython",
    "version": 3
   },
   "file_extension": ".py",
   "mimetype": "text/x-python",
   "name": "python",
   "nbconvert_exporter": "python",
   "pygments_lexer": "ipython3",
   "version": "3.7.7-final"
  },
  "orig_nbformat": 2,
  "kernelspec": {
   "name": "python37432bit83f766a27a154a7e8782be9929b8540d",
   "display_name": "Python 3.7.4 32-bit"
  }
 },
 "nbformat": 4,
 "nbformat_minor": 2,
 "cells": [
  {
   "cell_type": "code",
   "execution_count": 1,
   "metadata": {},
   "outputs": [],
   "source": [
    "from keras.models import Sequential\n",
    "from keras.layers import Dense\n",
    "import numpy as np\n",
    "import pandas as pd\n",
    "import glob\n",
    "\n",
    "from Indicator import Indicator\n"
   ]
  },
  {
   "cell_type": "code",
   "execution_count": 2,
   "metadata": {},
   "outputs": [
    {
     "output_type": "execute_result",
     "data": {
      "text/plain": [
       "['GT\\\\ABMD(2010,2011).csv',\n",
       " 'GT\\\\ABMD(2011,2012).csv',\n",
       " 'GT\\\\ABMD(2012,2013).csv',\n",
       " 'GT\\\\ABMD(2013,2014).csv',\n",
       " 'GT\\\\ABMD(2014,2015).csv',\n",
       " 'GT\\\\ABT(2010,2011).csv',\n",
       " 'GT\\\\ABT(2011,2012).csv',\n",
       " 'GT\\\\ABT(2012,2013).csv',\n",
       " 'GT\\\\ABT(2013,2014).csv',\n",
       " 'GT\\\\ABT(2014,2015).csv',\n",
       " 'GT\\\\IBM(2010,2011).csv',\n",
       " 'GT\\\\KO(2010,2011).csv',\n",
       " 'GT\\\\KO(2011,2012).csv',\n",
       " 'GT\\\\MMM(2010,2011).csv',\n",
       " 'GT\\\\MMM(2011,2012).csv',\n",
       " 'GT\\\\MMM(2012,2013).csv',\n",
       " 'GT\\\\MMM(2013,2014).csv',\n",
       " 'GT\\\\MMM(2014,2015).csv']"
      ]
     },
     "metadata": {},
     "execution_count": 2
    }
   ],
   "source": [
    "#Preprocess\n",
    "datalist = [f for f in glob.glob(\"GT/*.csv\")]\n",
    "datalist"
   ]
  },
  {
   "cell_type": "code",
   "execution_count": 3,
   "metadata": {},
   "outputs": [
    {
     "output_type": "execute_result",
     "data": {
      "text/plain": [
       "                 High        Low       Open      Close    Volume  Adj Close  \\\n",
       "Date                                                                          \n",
       "1/4/2010    28.610001  28.450001  28.580000  28.520000  13870400  18.965061   \n",
       "1/5/2010    28.495001  28.070000  28.424999  28.174999  23172400  18.735643   \n",
       "1/6/2010    28.219999  27.990000  28.174999  28.165001  19264600  18.728989   \n",
       "1/7/2010    28.184999  27.875000  28.165001  28.094999  13234600  18.682440   \n",
       "1/8/2010    27.820000  27.375000  27.730000  27.575001  28712400  18.336660   \n",
       "...               ...        ...        ...        ...       ...        ...   \n",
       "12/27/2010  32.775002  32.529999  32.775002  32.535000   9923800  23.024796   \n",
       "12/28/2010  32.715000  32.529999  32.560001  32.680000   9861600  23.127426   \n",
       "12/29/2010  32.830002  32.674999  32.695000  32.724998   8747200  23.159258   \n",
       "12/30/2010  32.799999  32.680000  32.715000  32.750000   9285800  23.176958   \n",
       "12/31/2010  32.900002  32.680000  32.680000  32.884998  10773400  23.272495   \n",
       "\n",
       "                  Signal  \n",
       "Date                      \n",
       "1/4/2010    wait or hold  \n",
       "1/5/2010    wait or hold  \n",
       "1/6/2010    wait or hold  \n",
       "1/7/2010             buy  \n",
       "1/8/2010             buy  \n",
       "...                  ...  \n",
       "12/27/2010  wait or hold  \n",
       "12/28/2010  wait or hold  \n",
       "12/29/2010  wait or hold  \n",
       "12/30/2010  wait or hold  \n",
       "12/31/2010  wait or hold  \n",
       "\n",
       "[252 rows x 7 columns]"
      ],
      "text/html": "<div>\n<style scoped>\n    .dataframe tbody tr th:only-of-type {\n        vertical-align: middle;\n    }\n\n    .dataframe tbody tr th {\n        vertical-align: top;\n    }\n\n    .dataframe thead th {\n        text-align: right;\n    }\n</style>\n<table border=\"1\" class=\"dataframe\">\n  <thead>\n    <tr style=\"text-align: right;\">\n      <th></th>\n      <th>High</th>\n      <th>Low</th>\n      <th>Open</th>\n      <th>Close</th>\n      <th>Volume</th>\n      <th>Adj Close</th>\n      <th>Signal</th>\n    </tr>\n    <tr>\n      <th>Date</th>\n      <th></th>\n      <th></th>\n      <th></th>\n      <th></th>\n      <th></th>\n      <th></th>\n      <th></th>\n    </tr>\n  </thead>\n  <tbody>\n    <tr>\n      <th>1/4/2010</th>\n      <td>28.610001</td>\n      <td>28.450001</td>\n      <td>28.580000</td>\n      <td>28.520000</td>\n      <td>13870400</td>\n      <td>18.965061</td>\n      <td>wait or hold</td>\n    </tr>\n    <tr>\n      <th>1/5/2010</th>\n      <td>28.495001</td>\n      <td>28.070000</td>\n      <td>28.424999</td>\n      <td>28.174999</td>\n      <td>23172400</td>\n      <td>18.735643</td>\n      <td>wait or hold</td>\n    </tr>\n    <tr>\n      <th>1/6/2010</th>\n      <td>28.219999</td>\n      <td>27.990000</td>\n      <td>28.174999</td>\n      <td>28.165001</td>\n      <td>19264600</td>\n      <td>18.728989</td>\n      <td>wait or hold</td>\n    </tr>\n    <tr>\n      <th>1/7/2010</th>\n      <td>28.184999</td>\n      <td>27.875000</td>\n      <td>28.165001</td>\n      <td>28.094999</td>\n      <td>13234600</td>\n      <td>18.682440</td>\n      <td>buy</td>\n    </tr>\n    <tr>\n      <th>1/8/2010</th>\n      <td>27.820000</td>\n      <td>27.375000</td>\n      <td>27.730000</td>\n      <td>27.575001</td>\n      <td>28712400</td>\n      <td>18.336660</td>\n      <td>buy</td>\n    </tr>\n    <tr>\n      <th>...</th>\n      <td>...</td>\n      <td>...</td>\n      <td>...</td>\n      <td>...</td>\n      <td>...</td>\n      <td>...</td>\n      <td>...</td>\n    </tr>\n    <tr>\n      <th>12/27/2010</th>\n      <td>32.775002</td>\n      <td>32.529999</td>\n      <td>32.775002</td>\n      <td>32.535000</td>\n      <td>9923800</td>\n      <td>23.024796</td>\n      <td>wait or hold</td>\n    </tr>\n    <tr>\n      <th>12/28/2010</th>\n      <td>32.715000</td>\n      <td>32.529999</td>\n      <td>32.560001</td>\n      <td>32.680000</td>\n      <td>9861600</td>\n      <td>23.127426</td>\n      <td>wait or hold</td>\n    </tr>\n    <tr>\n      <th>12/29/2010</th>\n      <td>32.830002</td>\n      <td>32.674999</td>\n      <td>32.695000</td>\n      <td>32.724998</td>\n      <td>8747200</td>\n      <td>23.159258</td>\n      <td>wait or hold</td>\n    </tr>\n    <tr>\n      <th>12/30/2010</th>\n      <td>32.799999</td>\n      <td>32.680000</td>\n      <td>32.715000</td>\n      <td>32.750000</td>\n      <td>9285800</td>\n      <td>23.176958</td>\n      <td>wait or hold</td>\n    </tr>\n    <tr>\n      <th>12/31/2010</th>\n      <td>32.900002</td>\n      <td>32.680000</td>\n      <td>32.680000</td>\n      <td>32.884998</td>\n      <td>10773400</td>\n      <td>23.272495</td>\n      <td>wait or hold</td>\n    </tr>\n  </tbody>\n</table>\n<p>252 rows × 7 columns</p>\n</div>"
     },
     "metadata": {},
     "execution_count": 3
    }
   ],
   "source": [
    "df =pd.read_csv(str(datalist[11]))\n",
    "df=df.set_index('Date')\n",
    "train_set = pd.DataFrame(index=df.index)\n",
    "indicator_signal= pd.DataFrame(index=df.index)\n",
    "df"
   ]
  },
  {
   "cell_type": "code",
   "execution_count": 6,
   "metadata": {},
   "outputs": [
    {
     "output_type": "execute_result",
     "data": {
      "text/plain": [
       "                 High        Low       Open      Close    Volume  Adj Close  \\\n",
       "Date                                                                          \n",
       "1/4/2010    28.610001  28.450001  28.580000  28.520000  13870400  18.965061   \n",
       "1/5/2010    28.495001  28.070000  28.424999  28.174999  23172400  18.735643   \n",
       "1/6/2010    28.219999  27.990000  28.174999  28.165001  19264600  18.728989   \n",
       "1/7/2010    28.184999  27.875000  28.165001  28.094999  13234600  18.682440   \n",
       "1/8/2010    27.820000  27.375000  27.730000  27.575001  28712400  18.336660   \n",
       "...               ...        ...        ...        ...       ...        ...   \n",
       "12/27/2010  32.775002  32.529999  32.775002  32.535000   9923800  23.024796   \n",
       "12/28/2010  32.715000  32.529999  32.560001  32.680000   9861600  23.127426   \n",
       "12/29/2010  32.830002  32.674999  32.695000  32.724998   8747200  23.159258   \n",
       "12/30/2010  32.799999  32.680000  32.715000  32.750000   9285800  23.176958   \n",
       "12/31/2010  32.900002  32.680000  32.680000  32.884998  10773400  23.272495   \n",
       "\n",
       "                  Signal      MACD  SIGNAL LINE        +DI  ...        adx  \\\n",
       "Date                                                        ...              \n",
       "1/4/2010    wait or hold  0.000000     0.000000   0.000000  ...   0.000000   \n",
       "1/5/2010    wait or hold -0.007740    -0.004300   0.000000  ...   0.000000   \n",
       "1/6/2010    wait or hold -0.010173    -0.006707   0.000000  ...   0.000000   \n",
       "1/7/2010             buy -0.013557    -0.009028   0.000000  ...   0.000000   \n",
       "1/8/2010             buy -0.035803    -0.016993   0.000000  ...   0.000000   \n",
       "...                  ...       ...          ...        ...  ...        ...   \n",
       "12/27/2010  wait or hold  0.329083     0.351312  23.127021  ...  21.477620   \n",
       "12/28/2010  wait or hold  0.315864     0.344222  22.196803  ...  20.665350   \n",
       "12/29/2010  wait or hold  0.305497     0.336477  24.017788  ...  20.313072   \n",
       "12/30/2010  wait or hold  0.295888     0.328359  23.336409  ...  19.985956   \n",
       "12/31/2010  wait or hold  0.295757     0.321839  24.509639  ...  20.039649   \n",
       "\n",
       "              storsi        %K        %D  aroon_up  aroon_down       ATR  \\\n",
       "Date                                                                       \n",
       "1/4/2010         NaN       NaN       NaN       NaN         NaN  0.160000   \n",
       "1/5/2010         NaN       NaN       NaN       NaN         NaN  0.425001   \n",
       "1/6/2010         NaN       NaN       NaN       NaN         NaN  0.230000   \n",
       "1/7/2010         NaN       NaN       NaN       NaN         NaN  0.309999   \n",
       "1/8/2010         NaN       NaN       NaN       NaN         NaN  0.445000   \n",
       "...              ...       ...       ...       ...         ...       ...   \n",
       "12/27/2010  0.326142  0.653189  0.687556      80.0        28.0  0.245003   \n",
       "12/28/2010  0.521212  0.553065  0.620310      76.0        24.0  0.185001   \n",
       "12/29/2010  0.581875  0.476410  0.548360      72.0        20.0  0.155003   \n",
       "12/30/2010  0.617172  0.573420  0.560890      68.0        16.0  0.119999   \n",
       "12/31/2010  0.808822  0.669290  0.615090     100.0        12.0  0.220001   \n",
       "\n",
       "                  CCI        OBV        AO  \n",
       "Date                                        \n",
       "1/4/2010          NaN   13870400       NaN  \n",
       "1/5/2010          NaN   -9302000       NaN  \n",
       "1/6/2010          NaN  -28566600       NaN  \n",
       "1/7/2010          NaN  -41801200       NaN  \n",
       "1/8/2010          NaN  -70513600       NaN  \n",
       "...               ...        ...       ...  \n",
       "12/27/2010  70.699316  632986600  0.697103  \n",
       "12/28/2010  70.765580  642848200  0.633779  \n",
       "12/29/2010  89.372868  651595400  0.602529  \n",
       "12/30/2010  80.206099  660881200  0.575265  \n",
       "12/31/2010  92.251825  671654600  0.521647  \n",
       "\n",
       "[252 rows x 21 columns]"
      ],
      "text/html": "<div>\n<style scoped>\n    .dataframe tbody tr th:only-of-type {\n        vertical-align: middle;\n    }\n\n    .dataframe tbody tr th {\n        vertical-align: top;\n    }\n\n    .dataframe thead th {\n        text-align: right;\n    }\n</style>\n<table border=\"1\" class=\"dataframe\">\n  <thead>\n    <tr style=\"text-align: right;\">\n      <th></th>\n      <th>High</th>\n      <th>Low</th>\n      <th>Open</th>\n      <th>Close</th>\n      <th>Volume</th>\n      <th>Adj Close</th>\n      <th>Signal</th>\n      <th>MACD</th>\n      <th>SIGNAL LINE</th>\n      <th>+DI</th>\n      <th>...</th>\n      <th>adx</th>\n      <th>storsi</th>\n      <th>%K</th>\n      <th>%D</th>\n      <th>aroon_up</th>\n      <th>aroon_down</th>\n      <th>ATR</th>\n      <th>CCI</th>\n      <th>OBV</th>\n      <th>AO</th>\n    </tr>\n    <tr>\n      <th>Date</th>\n      <th></th>\n      <th></th>\n      <th></th>\n      <th></th>\n      <th></th>\n      <th></th>\n      <th></th>\n      <th></th>\n      <th></th>\n      <th></th>\n      <th></th>\n      <th></th>\n      <th></th>\n      <th></th>\n      <th></th>\n      <th></th>\n      <th></th>\n      <th></th>\n      <th></th>\n      <th></th>\n      <th></th>\n    </tr>\n  </thead>\n  <tbody>\n    <tr>\n      <th>1/4/2010</th>\n      <td>28.610001</td>\n      <td>28.450001</td>\n      <td>28.580000</td>\n      <td>28.520000</td>\n      <td>13870400</td>\n      <td>18.965061</td>\n      <td>wait or hold</td>\n      <td>0.000000</td>\n      <td>0.000000</td>\n      <td>0.000000</td>\n      <td>...</td>\n      <td>0.000000</td>\n      <td>NaN</td>\n      <td>NaN</td>\n      <td>NaN</td>\n      <td>NaN</td>\n      <td>NaN</td>\n      <td>0.160000</td>\n      <td>NaN</td>\n      <td>13870400</td>\n      <td>NaN</td>\n    </tr>\n    <tr>\n      <th>1/5/2010</th>\n      <td>28.495001</td>\n      <td>28.070000</td>\n      <td>28.424999</td>\n      <td>28.174999</td>\n      <td>23172400</td>\n      <td>18.735643</td>\n      <td>wait or hold</td>\n      <td>-0.007740</td>\n      <td>-0.004300</td>\n      <td>0.000000</td>\n      <td>...</td>\n      <td>0.000000</td>\n      <td>NaN</td>\n      <td>NaN</td>\n      <td>NaN</td>\n      <td>NaN</td>\n      <td>NaN</td>\n      <td>0.425001</td>\n      <td>NaN</td>\n      <td>-9302000</td>\n      <td>NaN</td>\n    </tr>\n    <tr>\n      <th>1/6/2010</th>\n      <td>28.219999</td>\n      <td>27.990000</td>\n      <td>28.174999</td>\n      <td>28.165001</td>\n      <td>19264600</td>\n      <td>18.728989</td>\n      <td>wait or hold</td>\n      <td>-0.010173</td>\n      <td>-0.006707</td>\n      <td>0.000000</td>\n      <td>...</td>\n      <td>0.000000</td>\n      <td>NaN</td>\n      <td>NaN</td>\n      <td>NaN</td>\n      <td>NaN</td>\n      <td>NaN</td>\n      <td>0.230000</td>\n      <td>NaN</td>\n      <td>-28566600</td>\n      <td>NaN</td>\n    </tr>\n    <tr>\n      <th>1/7/2010</th>\n      <td>28.184999</td>\n      <td>27.875000</td>\n      <td>28.165001</td>\n      <td>28.094999</td>\n      <td>13234600</td>\n      <td>18.682440</td>\n      <td>buy</td>\n      <td>-0.013557</td>\n      <td>-0.009028</td>\n      <td>0.000000</td>\n      <td>...</td>\n      <td>0.000000</td>\n      <td>NaN</td>\n      <td>NaN</td>\n      <td>NaN</td>\n      <td>NaN</td>\n      <td>NaN</td>\n      <td>0.309999</td>\n      <td>NaN</td>\n      <td>-41801200</td>\n      <td>NaN</td>\n    </tr>\n    <tr>\n      <th>1/8/2010</th>\n      <td>27.820000</td>\n      <td>27.375000</td>\n      <td>27.730000</td>\n      <td>27.575001</td>\n      <td>28712400</td>\n      <td>18.336660</td>\n      <td>buy</td>\n      <td>-0.035803</td>\n      <td>-0.016993</td>\n      <td>0.000000</td>\n      <td>...</td>\n      <td>0.000000</td>\n      <td>NaN</td>\n      <td>NaN</td>\n      <td>NaN</td>\n      <td>NaN</td>\n      <td>NaN</td>\n      <td>0.445000</td>\n      <td>NaN</td>\n      <td>-70513600</td>\n      <td>NaN</td>\n    </tr>\n    <tr>\n      <th>...</th>\n      <td>...</td>\n      <td>...</td>\n      <td>...</td>\n      <td>...</td>\n      <td>...</td>\n      <td>...</td>\n      <td>...</td>\n      <td>...</td>\n      <td>...</td>\n      <td>...</td>\n      <td>...</td>\n      <td>...</td>\n      <td>...</td>\n      <td>...</td>\n      <td>...</td>\n      <td>...</td>\n      <td>...</td>\n      <td>...</td>\n      <td>...</td>\n      <td>...</td>\n      <td>...</td>\n    </tr>\n    <tr>\n      <th>12/27/2010</th>\n      <td>32.775002</td>\n      <td>32.529999</td>\n      <td>32.775002</td>\n      <td>32.535000</td>\n      <td>9923800</td>\n      <td>23.024796</td>\n      <td>wait or hold</td>\n      <td>0.329083</td>\n      <td>0.351312</td>\n      <td>23.127021</td>\n      <td>...</td>\n      <td>21.477620</td>\n      <td>0.326142</td>\n      <td>0.653189</td>\n      <td>0.687556</td>\n      <td>80.0</td>\n      <td>28.0</td>\n      <td>0.245003</td>\n      <td>70.699316</td>\n      <td>632986600</td>\n      <td>0.697103</td>\n    </tr>\n    <tr>\n      <th>12/28/2010</th>\n      <td>32.715000</td>\n      <td>32.529999</td>\n      <td>32.560001</td>\n      <td>32.680000</td>\n      <td>9861600</td>\n      <td>23.127426</td>\n      <td>wait or hold</td>\n      <td>0.315864</td>\n      <td>0.344222</td>\n      <td>22.196803</td>\n      <td>...</td>\n      <td>20.665350</td>\n      <td>0.521212</td>\n      <td>0.553065</td>\n      <td>0.620310</td>\n      <td>76.0</td>\n      <td>24.0</td>\n      <td>0.185001</td>\n      <td>70.765580</td>\n      <td>642848200</td>\n      <td>0.633779</td>\n    </tr>\n    <tr>\n      <th>12/29/2010</th>\n      <td>32.830002</td>\n      <td>32.674999</td>\n      <td>32.695000</td>\n      <td>32.724998</td>\n      <td>8747200</td>\n      <td>23.159258</td>\n      <td>wait or hold</td>\n      <td>0.305497</td>\n      <td>0.336477</td>\n      <td>24.017788</td>\n      <td>...</td>\n      <td>20.313072</td>\n      <td>0.581875</td>\n      <td>0.476410</td>\n      <td>0.548360</td>\n      <td>72.0</td>\n      <td>20.0</td>\n      <td>0.155003</td>\n      <td>89.372868</td>\n      <td>651595400</td>\n      <td>0.602529</td>\n    </tr>\n    <tr>\n      <th>12/30/2010</th>\n      <td>32.799999</td>\n      <td>32.680000</td>\n      <td>32.715000</td>\n      <td>32.750000</td>\n      <td>9285800</td>\n      <td>23.176958</td>\n      <td>wait or hold</td>\n      <td>0.295888</td>\n      <td>0.328359</td>\n      <td>23.336409</td>\n      <td>...</td>\n      <td>19.985956</td>\n      <td>0.617172</td>\n      <td>0.573420</td>\n      <td>0.560890</td>\n      <td>68.0</td>\n      <td>16.0</td>\n      <td>0.119999</td>\n      <td>80.206099</td>\n      <td>660881200</td>\n      <td>0.575265</td>\n    </tr>\n    <tr>\n      <th>12/31/2010</th>\n      <td>32.900002</td>\n      <td>32.680000</td>\n      <td>32.680000</td>\n      <td>32.884998</td>\n      <td>10773400</td>\n      <td>23.272495</td>\n      <td>wait or hold</td>\n      <td>0.295757</td>\n      <td>0.321839</td>\n      <td>24.509639</td>\n      <td>...</td>\n      <td>20.039649</td>\n      <td>0.808822</td>\n      <td>0.669290</td>\n      <td>0.615090</td>\n      <td>100.0</td>\n      <td>12.0</td>\n      <td>0.220001</td>\n      <td>92.251825</td>\n      <td>671654600</td>\n      <td>0.521647</td>\n    </tr>\n  </tbody>\n</table>\n<p>252 rows × 21 columns</p>\n</div>"
     },
     "metadata": {},
     "execution_count": 6
    }
   ],
   "source": [
    "indicator = Indicator()\n",
    "train_set = indicator.MACD(df)\n",
    "train_set = indicator.DMI(df)\n",
    "train_set = indicator.STOCHRSI(df)\n",
    "train_set = indicator.AROON(df)\n",
    "train_set = indicator.ATR(df)\n",
    "train_set = indicator.CCI(df)\n",
    "train_set = indicator.OBV(df)\n",
    "train_set = indicator.AO(df)\n",
    "train_set"
   ]
  },
  {
   "cell_type": "markdown",
   "metadata": {},
   "source": []
  }
 ]
}
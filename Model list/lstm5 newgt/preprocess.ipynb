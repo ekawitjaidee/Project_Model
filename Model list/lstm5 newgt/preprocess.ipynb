{
 "cells": [
  {
   "cell_type": "code",
   "execution_count": 6,
   "metadata": {},
   "outputs": [],
   "source": [
    "from keras.models import Sequential\n",
    "from keras.layers import Dense\n",
    "import numpy as np\n",
    "import pandas as pd\n",
    "import glob\n",
    "\n",
    "from sklearn.preprocessing import MinMaxScaler\n",
    "\n",
    "from Indicator import Indicator\n",
    "\n",
    "def fillindicator(df):\n",
    "    indicator = Indicator()\n",
    "    train_set = indicator.MACD(df,12,26,9,1)#MACD 1\n",
    "    train_set = indicator.MACD(df,40,60,34,2)#MACD 2\n",
    "    train_set = indicator.DMI(df,14)\n",
    "    train_set = indicator.STOCHRSI(df)\n",
    "    train_set = indicator.AO(df)\n",
    "    train_set = indicator.WILLIANSR(df)\n",
    "    train_set = indicator.RSI(df)\n",
    "    train_set = indicator.MA(df,26)\n",
    "    train_set['MA-26'] = train_set['MA']\n",
    "    train_set = indicator.MA(df,15)\n",
    "    train_set = indicator.check_trend(df)\n",
    "    return train_set\n",
    "\n",
    "def shiftdata(df,col_name,sft):\n",
    "    for i in range(sft):\n",
    "        i+=1\n",
    "        shiftname = col_name+'-'+str(i)\n",
    "        df[shiftname] = df[col_name].shift(i)\n",
    "\n",
    "    return df\n",
    "\n",
    "def norm(df,col_name):# this will get columnname + _n\n",
    "    #Normalize data each colunm in to range -1 to 1\n",
    "    df[col_name+'_n'] = 2*(df[col_name]-df[col_name].min())/(df[col_name].max()-df[col_name].min())-1    \n",
    "    return df\n",
    "\n",
    "\n",
    "\n"
   ]
  },
  {
   "cell_type": "code",
   "execution_count": 7,
   "metadata": {},
   "outputs": [],
   "source": [
    "df = pd.read_csv('AES.csv')"
   ]
  },
  {
   "cell_type": "code",
   "execution_count": 8,
   "metadata": {},
   "outputs": [
    {
     "name": "stderr",
     "output_type": "stream",
     "text": [
      "C:\\Users\\jame_\\anaconda3\\lib\\site-packages\\ta\\trend.py:768: RuntimeWarning: invalid value encountered in double_scalars\n",
      "  dip[i] = 100 * (self._dip[i] / self._trs[i])\n",
      "C:\\Users\\jame_\\anaconda3\\lib\\site-packages\\ta\\trend.py:772: RuntimeWarning: invalid value encountered in double_scalars\n",
      "  din[i] = 100 * (self._din[i] / self._trs[i])\n"
     ]
    }
   ],
   "source": [
    "df = fillindicator(df)\n",
    "df['AO-signal'] = np.where(df['AO'] > df['AO'].shift(1),1,0)\n",
    "df.loc[df['Trend'] == 'Down', 'Trend'] = 0.1\n",
    "df.loc[df['Trend'] == 'Up', 'Trend'] = 0.9 \n",
    "\n",
    "#Delta\n",
    "df['MACD-SL-1'] = df['MACD-1'] - df['SIGNAL LINE1']\n",
    "df['MACD-SL-2'] = df['MACD-2'] - df['SIGNAL LINE2']\n",
    "df['DMI'] = df['plusDI'] - df['minusDI']\n",
    "df['STOCHRSI'] = df['%K'] - df['%D']\n",
    "df['MA-trend'] = df['MA-26'] - df['Close']\n",
    "\n",
    "#MACD\n",
    "df = norm(df,'MACD-SL-1')\n",
    "df = norm(df,'MACD-SL-2')\n",
    "df = norm(df,'MACD-1')\n",
    "df = norm(df,'MACD-2')\n",
    "df = norm(df,'SIGNAL LINE1')\n",
    "df = norm(df,'SIGNAL LINE2')\n",
    "\n",
    "#DMI\n",
    "df = norm(df,'plusDI')\n",
    "df = norm(df,'minusDI')\n",
    "df = norm(df,'DMI')\n",
    "\n",
    "#StochasticRSI\n",
    "df = norm(df,'%K')\n",
    "df = norm(df,'%D')\n",
    "df = norm(df,'STOCHRSI')\n",
    "\n",
    "#Other\n",
    "df = norm(df,'Close')\n",
    "df = norm(df,'%R')\n",
    "df = norm(df,'RSI')\n",
    "df = norm(df,'AO')\n",
    "df = norm(df,'MA-trend')\n",
    "\n",
    "dataset = df[63:]\n",
    "dataset.to_csv('Dataset.csv',index = False)"
   ]
  },
  {
   "cell_type": "code",
   "execution_count": null,
   "metadata": {},
   "outputs": [],
   "source": []
  }
 ],
 "metadata": {
  "kernelspec": {
   "display_name": "Python 3",
   "language": "python",
   "name": "python3"
  },
  "language_info": {
   "codemirror_mode": {
    "name": "ipython",
    "version": 3
   },
   "file_extension": ".py",
   "mimetype": "text/x-python",
   "name": "python",
   "nbconvert_exporter": "python",
   "pygments_lexer": "ipython3",
   "version": "3.7.6"
  }
 },
 "nbformat": 4,
 "nbformat_minor": 4
}

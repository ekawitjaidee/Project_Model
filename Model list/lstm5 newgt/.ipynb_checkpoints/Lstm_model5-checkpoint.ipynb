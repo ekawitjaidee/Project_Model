{
 "cells": [
  {
   "cell_type": "code",
   "execution_count": 1,
   "metadata": {
    "id": "ljTVkrwftSq6"
   },
   "outputs": [],
   "source": [
    "from keras.models import load_model,Sequential\n",
    "from keras.layers import Input, Dense, LSTM,Dropout\n",
    "from keras.utils import to_categorical\n",
    "from keras.callbacks import Callback, ModelCheckpoint\n",
    "\n",
    "\n",
    "import glob\n",
    "import pandas as pd\n",
    "import numpy as np\n",
    "import matplotlib.pyplot as plt\n",
    "import random\n",
    "\n",
    "from sklearn.metrics import confusion_matrix\n",
    "\n",
    "def signal_to_catagorical(data):\n",
    "  data.loc[data['Signal'] == 'wait ot hold', 'Signal'] = 'wait or hold'\n",
    "  data.loc[data['Signal'] == 'buy', 'Signal'] = 0\n",
    "  data.loc[data['Signal'] == 'sell', 'Signal'] = 1 \n",
    "  data.loc[data['Signal'] == 'wait or hold', 'Signal'] = 2 \n",
    "  return data\n",
    "\n",
    "def add_shift_day(data,day):\n",
    "  r_list = []\n",
    "  for i in range(day,len(data)):#Number mean day to shift\n",
    "    r_list.append(data[i-day : i])\n",
    "  return np.array(r_list)\n",
    "\n"
   ]
  },
  {
   "cell_type": "code",
   "execution_count": 2,
   "metadata": {
    "colab": {
     "base_uri": "https://localhost:8080/"
    },
    "id": "kA9OMHi3BAVz",
    "outputId": "e4cfb254-680e-4af0-9a81-d2cee251207b"
   },
   "outputs": [
    {
     "name": "stdout",
     "output_type": "stream",
     "text": [
      "have stock =  76\n"
     ]
    }
   ],
   "source": [
    "datalist = [f for f in glob.glob(\"../../Dataset/*.csv\")]\n",
    "print('have stock = ',len(datalist))\n"
   ]
  },
  {
   "cell_type": "code",
   "execution_count": 3,
   "metadata": {},
   "outputs": [
    {
     "name": "stdout",
     "output_type": "stream",
     "text": [
      "<class 'pandas.core.frame.DataFrame'>\n",
      "RangeIndex: 3023 entries, 0 to 3022\n",
      "Data columns (total 50 columns):\n",
      " #   Column          Non-Null Count  Dtype  \n",
      "---  ------          --------------  -----  \n",
      " 0   Date            3023 non-null   object \n",
      " 1   High            3023 non-null   float64\n",
      " 2   Low             3023 non-null   float64\n",
      " 3   Open            3023 non-null   float64\n",
      " 4   Close           3023 non-null   float64\n",
      " 5   Volume          3023 non-null   int64  \n",
      " 6   Adj Close       3023 non-null   float64\n",
      " 7   Signal          3023 non-null   object \n",
      " 8   MACD-1          3023 non-null   float64\n",
      " 9   SIGNAL LINE1    3023 non-null   float64\n",
      " 10  MACD-2          3023 non-null   float64\n",
      " 11  SIGNAL LINE2    3023 non-null   float64\n",
      " 12  plusDI          3023 non-null   float64\n",
      " 13  minusDI         3023 non-null   float64\n",
      " 14  adx             3023 non-null   float64\n",
      " 15  storsi          3023 non-null   float64\n",
      " 16  %K              3023 non-null   float64\n",
      " 17  %D              3023 non-null   float64\n",
      " 18  AO              3023 non-null   float64\n",
      " 19  %R              3023 non-null   float64\n",
      " 20  RSI-7           3023 non-null   float64\n",
      " 21  RSI-14          3023 non-null   float64\n",
      " 22  RSI             3023 non-null   float64\n",
      " 23  MA              3023 non-null   float64\n",
      " 24  MA-26           3023 non-null   float64\n",
      " 25  Trend           3021 non-null   float64\n",
      " 26  Trading Signal  3021 non-null   float64\n",
      " 27  AO-signal       3023 non-null   int64  \n",
      " 28  MACD-SL-1       3023 non-null   float64\n",
      " 29  MACD-SL-2       3023 non-null   float64\n",
      " 30  DMI             3023 non-null   float64\n",
      " 31  STOCHRSI        3023 non-null   float64\n",
      " 32  MA-trend        3023 non-null   float64\n",
      " 33  MACD-SL-1_n     3023 non-null   float64\n",
      " 34  MACD-SL-2_n     3023 non-null   float64\n",
      " 35  MACD-1_n        3023 non-null   float64\n",
      " 36  MACD-2_n        3023 non-null   float64\n",
      " 37  SIGNAL LINE1_n  3023 non-null   float64\n",
      " 38  SIGNAL LINE2_n  3023 non-null   float64\n",
      " 39  plusDI_n        3023 non-null   float64\n",
      " 40  minusDI_n       3023 non-null   float64\n",
      " 41  DMI_n           3023 non-null   float64\n",
      " 42  %K_n            3023 non-null   float64\n",
      " 43  %D_n            3023 non-null   float64\n",
      " 44  STOCHRSI_n      3023 non-null   float64\n",
      " 45  Close_n         3023 non-null   float64\n",
      " 46  %R_n            3023 non-null   float64\n",
      " 47  RSI_n           3023 non-null   float64\n",
      " 48  AO_n            3023 non-null   float64\n",
      " 49  MA-trend_n      3023 non-null   float64\n",
      "dtypes: float64(46), int64(2), object(2)\n",
      "memory usage: 1.2+ MB\n"
     ]
    }
   ],
   "source": [
    "data = pd.read_csv(datalist[0])\n",
    "data.info()"
   ]
  },
  {
   "cell_type": "code",
   "execution_count": 4,
   "metadata": {
    "id": "J9-BKK7zRLGQ"
   },
   "outputs": [],
   "source": [
    "#validation \n",
    "val_list = []\n",
    "for val_name in range(71,74):\n",
    "    df = pd.read_csv(datalist[val_name])\n",
    "    val_x = df\n",
    "    # val_x = add_shift_day(val_x,30)\n",
    "    val_list.append(val_x)\n",
    "\n",
    "#test\n",
    "test_list = []\n",
    "for test_name in range(74,76):\n",
    "    df = pd.read_csv(datalist[test_name])\n",
    "    test = df\n",
    "    # test = add_shift_day(test,30)\n",
    "    test_list.append(test)"
   ]
  },
  {
   "cell_type": "code",
   "execution_count": 5,
   "metadata": {
    "id": "IeyYGmk-xje3"
   },
   "outputs": [],
   "source": [
    "model = Sequential()\n",
    "model.add(LSTM(100, input_shape=((30,7)),return_sequences=True))\n",
    "model.add(Dropout(0.2))\n",
    "model.add(LSTM(50,return_sequences=True))\n",
    "model.add(Dropout(0.2))\n",
    "model.add(LSTM(50))\n",
    "model.add(Dense(3,activation='softmax'))\n",
    "\n",
    "model.compile(optimizer='adam',\n",
    "              loss='categorical_crossentropy',\n",
    "              metrics=['acc'])\n",
    "\n",
    "checkpoint = ModelCheckpoint('lstm_model_trend5.h5',\n",
    "                               verbose=1,\n",
    "                               monitor='val_acc',\n",
    "                               mode='max',\n",
    "                               save_best_only = True)\n",
    "\n"
   ]
  },
  {
   "cell_type": "code",
   "execution_count": null,
   "metadata": {
    "colab": {
     "base_uri": "https://localhost:8080/",
     "height": 1000
    },
    "id": "hhnByyzvTs0M",
    "outputId": "d3850bc5-4ad4-4a39-9b49-791b937538ef"
   },
   "outputs": [
    {
     "name": "stdout",
     "output_type": "stream",
     "text": [
      "Epoch 1/100\n",
      "77/77 [==============================] - 4s 50ms/step - loss: 1.0748 - acc: 0.4677\n",
      "Epoch 2/100\n",
      "30/77 [==========>...................] - ETA: 2s - loss: 1.0302 - acc: 0.5031"
     ]
    }
   ],
   "source": [
    "df = pd.read_csv('Dataset.csv')\n",
    "df = signal_to_catagorical(df)\n",
    "df = df[30:]\n",
    "x_train = df[['MACD-SL-1_n','DMI_n','MACD-SL-2_n','Close_n','AO_n','RSI_n','MA-trend']].values\n",
    "x_train = add_shift_day(x_train,30)\n",
    "y_train = df['Signal']\n",
    "y_train = to_categorical(y_train)\n",
    "y_train = y_train.tolist()\n",
    "del y_train[0:30]\n",
    "y_train = np.array(y_train)\n",
    "\n",
    "# r = random.randint(0,2)\n",
    "# val = val_list[1]\n",
    "# val = signal_to_catagorical(val)\n",
    "# x_val = val[['MACD-SL-1_n','DMI_n','MACD-SL-2_n','Close_n','AO_n','RSI_n','MA-trend']].values\n",
    "# x_val = add_shift_day(x_val,30)\n",
    "# y_val = val['Signal']\n",
    "# y_val = to_categorical(y_val)\n",
    "# y_val = y_val.tolist()\n",
    "# del y_val[0:30]\n",
    "# y_val = np.array(y_val)\n",
    "\n",
    "h = model.fit(x_train, y_train, epochs=100,shuffle=False)\n",
    "model.save('model_lstm_data5.h5')\n",
    "plt.plot(h.history['acc'])\n",
    "plt.legend(['train'])\n",
    "plt.show()\n"
   ]
  },
  {
   "cell_type": "code",
   "execution_count": 3,
   "metadata": {},
   "outputs": [],
   "source": [
    "# model = load_model('Model/lstm_model_trend2.h5')"
   ]
  },
  {
   "cell_type": "code",
   "execution_count": 12,
   "metadata": {
    "colab": {
     "base_uri": "https://localhost:8080/"
    },
    "id": "EsWYyoxIBh4H",
    "outputId": "ea4b7d1f-5baa-47e5-f4a8-509b46a3c505"
   },
   "outputs": [
    {
     "name": "stdout",
     "output_type": "stream",
     "text": [
      "Confusion Matrix\n",
      "[[343   1 165]\n",
      " [ 60  14 236]\n",
      " [796  45 947]]\n",
      "Confusion Matrix\n",
      "[[ 103   15  363]\n",
      " [  23   33  359]\n",
      " [ 307  160 1289]]\n"
     ]
    }
   ],
   "source": [
    "for test in test_list:\n",
    "    # print(test)\n",
    "    test = signal_to_catagorical(test)\n",
    "    #   print(test)\n",
    "    x_test = test[['MACD-SL-1_n','DMI_n','MACD-SL-2_n','Close_n','AO_n','RSI_n','MA-trend']].values\n",
    "    x_test = add_shift_day(x_test,30)\n",
    "    y_test = test['Signal'].values\n",
    "    y_test = y_test.tolist()\n",
    "    del y_test[0:30]\n",
    "    y_test = np.array(y_test)\n",
    "\n",
    "    y_pred = model.predict(x_test)\n",
    "    y_pred = np.argmax(y_pred,axis = -1)\n",
    "    y_test = y_test.astype('int64')\n",
    "    cm = confusion_matrix(y_test, y_pred)\n",
    "    print(\"Confusion Matrix\")\n",
    "    print(cm)\n",
    "\n",
    "    \n",
    "  "
   ]
  },
  {
   "cell_type": "code",
   "execution_count": 11,
   "metadata": {},
   "outputs": [
    {
     "name": "stderr",
     "output_type": "stream",
     "text": [
      "C:\\Users\\jame_\\anaconda3\\lib\\site-packages\\ipykernel_launcher.py:13: SettingWithCopyWarning: \n",
      "A value is trying to be set on a copy of a slice from a DataFrame.\n",
      "Try using .loc[row_indexer,col_indexer] = value instead\n",
      "\n",
      "See the caveats in the documentation: https://pandas.pydata.org/pandas-docs/stable/user_guide/indexing.html#returning-a-view-versus-a-copy\n",
      "  del sys.path[0]\n",
      "C:\\Users\\jame_\\anaconda3\\lib\\site-packages\\ipykernel_launcher.py:14: SettingWithCopyWarning: \n",
      "A value is trying to be set on a copy of a slice from a DataFrame.\n",
      "Try using .loc[row_indexer,col_indexer] = value instead\n",
      "\n",
      "See the caveats in the documentation: https://pandas.pydata.org/pandas-docs/stable/user_guide/indexing.html#returning-a-view-versus-a-copy\n",
      "  \n",
      "C:\\Users\\jame_\\anaconda3\\lib\\site-packages\\ipykernel_launcher.py:15: SettingWithCopyWarning: \n",
      "A value is trying to be set on a copy of a slice from a DataFrame.\n",
      "Try using .loc[row_indexer,col_indexer] = value instead\n",
      "\n",
      "See the caveats in the documentation: https://pandas.pydata.org/pandas-docs/stable/user_guide/indexing.html#returning-a-view-versus-a-copy\n",
      "  from ipykernel import kernelapp as app\n"
     ]
    },
    {
     "data": {
      "text/plain": [
       "Text(0.5, 0, 'Date')"
      ]
     },
     "execution_count": 11,
     "metadata": {},
     "output_type": "execute_result"
    },
    {
     "data": {
      "image/png": "[encoded data removed]",
      "text/plain": [
       "<Figure size 1008x576 with 1 Axes>"
      ]
     },
     "metadata": {
      "needs_background": "light"
     },
     "output_type": "display_data"
    }
   ],
   "source": [
    "p_test = test_list[0]\n",
    "p_test = signal_to_catagorical(p_test)\n",
    "x_test = p_test[['MACD-SL-1_n','DMI_n','MACD-SL-2_n','Close_n','AO_n','RSI_n']].values\n",
    "x_test = add_shift_day(x_test,30)\n",
    "y_test = p_test['Signal'].values\n",
    "y_test = y_test.tolist()\n",
    "del y_test[0:30]\n",
    "y_test = np.array(y_test)\n",
    "y_pred = model.predict(x_test)\n",
    "y_pred = np.argmax(y_pred,axis = -1)\n",
    "p_test = p_test.iloc[30:]\n",
    "\n",
    "p_test['pred'] = y_pred\n",
    "p_test['pred_b'] = np.where(p_test['pred'] == 0,p_test['Close'],np.nan)\n",
    "p_test['pred_s'] = np.where(p_test['pred'] == 1,p_test['Close'],np.nan)\n",
    "\n",
    "plt.figure(figsize=(14,8))\n",
    "# plt.grid()\n",
    "plt.title('Predict Buy and Sold Signal')\n",
    "plt.plot(p_test['Close'])\n",
    "plt.plot(p_test['pred_b'],color='yellow')\n",
    "plt.plot(p_test['pred_s'],color='red')\n",
    "plt.ylabel('Price')\n",
    "plt.xlabel('Date')"
   ]
  },
  {
   "cell_type": "code",
   "execution_count": 7,
   "metadata": {},
   "outputs": [
    {
     "data": {
      "text/plain": [
       "30      0.1\n",
       "31      0.1\n",
       "32      0.1\n",
       "33      0.1\n",
       "34      0.1\n",
       "       ... \n",
       "3018    0.9\n",
       "3019    0.9\n",
       "3020    0.9\n",
       "3021    0.9\n",
       "3022    0.9\n",
       "Name: Trend, Length: 2993, dtype: float64"
      ]
     },
     "execution_count": 7,
     "metadata": {},
     "output_type": "execute_result"
    }
   ],
   "source": []
  },
  {
   "cell_type": "code",
   "execution_count": null,
   "metadata": {},
   "outputs": [],
   "source": []
  }
 ],
 "metadata": {
  "colab": {
   "collapsed_sections": [],
   "name": "Lstm_model.ipynb",
   "provenance": []
  },
  "kernelspec": {
   "display_name": "Python 3",
   "language": "python",
   "name": "python3"
  },
  "language_info": {
   "codemirror_mode": {
    "name": "ipython",
    "version": 3
   },
   "file_extension": ".py",
   "mimetype": "text/x-python",
   "name": "python",
   "nbconvert_exporter": "python",
   "pygments_lexer": "ipython3",
   "version": "3.7.6"
  }
 },
 "nbformat": 4,
 "nbformat_minor": 1
}

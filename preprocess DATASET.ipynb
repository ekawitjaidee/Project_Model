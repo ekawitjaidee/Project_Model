{
 "cells": [
  {
   "cell_type": "code",
   "execution_count": 8,
   "metadata": {},
   "outputs": [],
   "source": [
    "from keras.models import Sequential\n",
    "from keras.layers import Dense\n",
    "import numpy as np\n",
    "import pandas as pd\n",
    "import glob\n",
    "\n",
    "from sklearn.preprocessing import MinMaxScaler\n",
    "\n",
    "from Indicator import Indicator\n",
    "\n",
    "def fillindicator(df):\n",
    "    indicator = Indicator()\n",
    "    train_set = indicator.MACD(df,12,26,9,1)#MACD 1\n",
    "    train_set = indicator.MACD(df,40,60,34,2)#MACD 2\n",
    "    train_set = indicator.DMI(df,14)\n",
    "    train_set = indicator.STOCHRSI(df)\n",
    "    train_set = indicator.AO(df)\n",
    "    train_set = indicator.WILLIANSR(df)\n",
    "    train_set = indicator.RSI(df)\n",
    "    train_set = indicator.MA(df,26)\n",
    "    train_set['MA-26'] = train_set['MA']\n",
    "    train_set = indicator.MA(df,15)\n",
    "    train_set = indicator.check_trend(df)\n",
    "    return train_set\n",
    "\n",
    "def shiftdata(df,col_name,sft):\n",
    "    for i in range(sft):\n",
    "        i+=1\n",
    "        shiftname = col_name+'-'+str(i)\n",
    "        df[shiftname] = df[col_name].shift(i)\n",
    "\n",
    "    return df\n",
    "\n",
    "def norm(df,col_name):# this will get columnname + _n\n",
    "    #Normalize data each colunm in to range -1 to 1\n",
    "    df[col_name+'_n'] = 2*(df[col_name]-df[col_name].min())/(df[col_name].max()-df[col_name].min())-1    \n",
    "    return df\n",
    "\n",
    "\n",
    "\n"
   ]
  },
  {
   "cell_type": "code",
   "execution_count": 9,
   "metadata": {},
   "outputs": [
    {
     "name": "stdout",
     "output_type": "stream",
     "text": [
      "have stock =  76\n"
     ]
    }
   ],
   "source": [
    "#Preprocess\n",
    "#read name all stock with glob\n",
    "datalist = [f for f in glob.glob(\"GT/*.csv\")]\n",
    "print('have stock = ',len(datalist))"
   ]
  },
  {
   "cell_type": "code",
   "execution_count": 10,
   "metadata": {},
   "outputs": [
    {
     "name": "stdout",
     "output_type": "stream",
     "text": [
      "ABC(2003,2015)\n"
     ]
    }
   ],
   "source": [
    "print(datalist[4][3:-4])"
   ]
  },
  {
   "cell_type": "code",
   "execution_count": 11,
   "metadata": {},
   "outputs": [
    {
     "name": "stdout",
     "output_type": "stream",
     "text": [
      "0 GT\\A(2003,2015).csv 1 GT\\AAL(2006,2015).csv 2 GT\\AAP(2005,2015).csv 3 GT\\AAPL(2005,2015).csv 4 GT\\ABC(2003,2015).csv 5 GT\\ABMD(2005,2015).csv 6 GT\\ABT(2005,2015).csv 7 GT\\ACN(2005,2015).csv 8 GT\\ADBE(2005,2015).csv 9 GT\\ADI(2005,2015).csv 10 GT\\ADVANC.bk(2005,2015).csv 11 GT\\AEE(2005,2015).csv 12 GT\\AES(2005,2015).csv 13 GT\\AFL(2004,2015).csv 14 GT\\AKAM(2005,2015).csv 15 GT\\ALB(2003,2015).csv 16 GT\\ALK(2005,2015).csv 17 GT\\ALL(2005,2015).csv 18 GT\\ALXN(2005,2015).csv 19 GT\\AMAT(2005,2015).csv 20 GT\\AMD(2005,2015).csv 21 GT\\AMGN(2005,2015).csv 22 GT\\AMZN(2004,2015).csv 23 GT\\AON(2005,2015).csv 24 GT\\AOS(2002,2015).csv 25 GT\\AOT.bk(2005,2015).csv 26 GT\\APD(2005,2015).csv 27 GT\\ARE(2005,2015).csv 28 GT\\ATO(2005,2015).csv 29 GT\\ATVI(2005,2015).csv 30 GT\\AVB(2003,2015).csv 31 GT\\AZO(2005,2016).csv 32 GT\\BBL.bk(2003,2016).csv 33 GT\\BDMS.bk(2005,2015).csv 34 GT\\BH.bk(2005,2015).csv 35 GT\\BJC.bk(2005,2015).csv 36 GT\\BKR(2004,2015).csv 37 GT\\BLL(2004,2015).csv 38 GT\\CPALL.bk(2005,2015).csv 39 GT\\CPF.bk(2005,2015).csv 40 GT\\CPN.bk(2005,2015).csv 41 GT\\EA(2005,2015).csv 42 GT\\EBAY(2005,2016).csv 43 GT\\EGCO.bk(2008,2015).csv 44 GT\\EMR(2003,2015).csv 45 GT\\EOG(2005,2015).csv 46 GT\\ETR(2005,2015).csv 47 GT\\GOOGL(2005,2015).csv 48 GT\\HD(2003,2015).csv 49 GT\\HMPRO.bk(2005,2015).csv 50 GT\\HON(2004,2015).csv 51 GT\\HRL(2005,2015).csv 52 GT\\IBM(2005,2015).csv 53 GT\\IP(2005,2015).csv 54 GT\\IPG(2005,2015).csv 55 GT\\IRPC.bk(2008,2015).csv 56 GT\\KBANK.bk(2005,2015).csv 57 GT\\KTB.bk(2005,2015).csv 58 GT\\LH(2003,2015).csv 59 GT\\LH.bk(2005,2015).csv 60 GT\\LNT(2006,2015).csv 61 GT\\LRCX(2005,2015).csv 62 GT\\LUV(2004,2016).csv 63 GT\\MINT.bk(2006,2015).csv 64 GT\\MMM(2005,2015).csv 65 GT\\MO(2005,2015).csv 66 GT\\NFLX(2003,2015).csv 67 GT\\POOL(2005,2016).csv 68 GT\\RATCH.bk(2005,2015).csv 69 GT\\SCB.bk(2005,2015).csv 70 GT\\SCC.bk(2004,2015).csv 71 GT\\TISCO.bk(2005,2015).csv 72 GT\\TMB.bk(2005,2015).csv 73 GT\\TOP.bk(2006,2015).csv 74 GT\\TRUE.bk(2005,2015).csv 75 GT\\TU.bk(2005,2015).csv "
     ]
    }
   ],
   "source": [
    "dataset = pd.DataFrame()\n",
    "\n",
    "for i,stockname in enumerate(datalist):\n",
    "    print(i,stockname,end=\" \")\n",
    "    df = pd.read_csv(stockname)\n",
    "    df = fillindicator(df)\n",
    "    df['AO-signal'] = np.where(df['AO'] > df['AO'].shift(1),1,0)\n",
    "    df.loc[df['Trend'] == 'Down', 'Trend'] = 0.1\n",
    "    df.loc[df['Trend'] == 'Up', 'Trend'] = 0.9 \n",
    "\n",
    "    #Delta\n",
    "    df['MACD-SL-1'] = df['MACD-1'] - df['SIGNAL LINE1']\n",
    "    df['MACD-SL-2'] = df['MACD-2'] - df['SIGNAL LINE2']\n",
    "    df['DMI'] = df['plusDI'] - df['minusDI']\n",
    "    df['STOCHRSI'] = df['%K'] - df['%D']\n",
    "    df['MA-trend'] = df['MA-26'] - df['Close']\n",
    "\n",
    "    #MACD\n",
    "    df = norm(df,'MACD-SL-1')\n",
    "    df = norm(df,'MACD-SL-2')\n",
    "    df = norm(df,'MACD-1')\n",
    "    df = norm(df,'MACD-2')\n",
    "    df = norm(df,'SIGNAL LINE1')\n",
    "    df = norm(df,'SIGNAL LINE2')\n",
    "    \n",
    "    #DMI\n",
    "    df = norm(df,'plusDI')\n",
    "    df = norm(df,'minusDI')\n",
    "    df = norm(df,'DMI')\n",
    "    \n",
    "    #StochasticRSI\n",
    "    df = norm(df,'%K')\n",
    "    df = norm(df,'%D')\n",
    "    df = norm(df,'STOCHRSI')\n",
    "\n",
    "    #Other\n",
    "    df = norm(df,'Close')\n",
    "    df = norm(df,'%R')\n",
    "    df = norm(df,'RSI')\n",
    "    df = norm(df,'AO')\n",
    "    df = norm(df,'MA-trend')\n",
    "\n",
    "    dataset = df[63:]\n",
    "    dataset.to_csv('Dataset/'+str(stockname[3:-4])+'.csv',index = False)"
   ]
  },
  {
   "cell_type": "code",
   "execution_count": null,
   "metadata": {},
   "outputs": [],
   "source": []
  }
 ],
 "metadata": {
  "kernelspec": {
   "display_name": "Python 3",
   "language": "python",
   "name": "python3"
  },
  "language_info": {
   "codemirror_mode": {
    "name": "ipython",
    "version": 3
   },
   "file_extension": ".py",
   "mimetype": "text/x-python",
   "name": "python",
   "nbconvert_exporter": "python",
   "pygments_lexer": "ipython3",
   "version": "3.7.6"
  }
 },
 "nbformat": 4,
 "nbformat_minor": 2
}
